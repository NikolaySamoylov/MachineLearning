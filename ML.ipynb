{
 "cells": [
  {
   "cell_type": "markdown",
   "id": "f0717252",
   "metadata": {},
   "source": [
    "# **0. ОПИСАНИЕ ЗАДАЧИ СЛОВАМИ**\n",
    "\n",
    "Данный датасет разработан для предсказания, является ли описанная работа вымышленной или реальной, с помощью алгоритмов машинного обучения"
   ]
  },
  {
   "cell_type": "code",
   "execution_count": 243,
   "id": "8ed32144",
   "metadata": {},
   "outputs": [],
   "source": [
    "# Подключение библиотек\n",
    "import numpy as np # Одномерные и многомерные массивы (array)\n",
    "import pandas as pd # Таблицы и временные ряды (dataframe, series)\n",
    "import matplotlib.pyplot as plt # Научная графика\n",
    "import seaborn as sns # графика для визуализации данных\n",
    "import sklearn"
   ]
  },
  {
   "cell_type": "markdown",
   "id": "b486fd32",
   "metadata": {},
   "source": [
    "# **1. СЧИТЫВАНИЕ ДАННЫХ**"
   ]
  },
  {
   "cell_type": "code",
   "execution_count": 244,
   "id": "d65deae0",
   "metadata": {},
   "outputs": [],
   "source": [
    "url = \"https://raw.githubusercontent.com/NikolaySamoylov/MachineLearning/main/fake_job_postings.csv\"\n",
    "data_raw = pd.read_csv(url)"
   ]
  },
  {
   "cell_type": "markdown",
   "id": "35cbaa3e",
   "metadata": {},
   "source": [
    "Первые и последние значения из таблицы данных:"
   ]
  },
  {
   "cell_type": "code",
   "execution_count": 245,
   "id": "615cc191",
   "metadata": {},
   "outputs": [
    {
     "data": {
      "text/html": [
       "<div>\n",
       "<style scoped>\n",
       "    .dataframe tbody tr th:only-of-type {\n",
       "        vertical-align: middle;\n",
       "    }\n",
       "\n",
       "    .dataframe tbody tr th {\n",
       "        vertical-align: top;\n",
       "    }\n",
       "\n",
       "    .dataframe thead th {\n",
       "        text-align: right;\n",
       "    }\n",
       "</style>\n",
       "<table border=\"1\" class=\"dataframe\">\n",
       "  <thead>\n",
       "    <tr style=\"text-align: right;\">\n",
       "      <th></th>\n",
       "      <th>job_id</th>\n",
       "      <th>title</th>\n",
       "      <th>location</th>\n",
       "      <th>department</th>\n",
       "      <th>salary_range</th>\n",
       "      <th>company_profile</th>\n",
       "      <th>description</th>\n",
       "      <th>requirements</th>\n",
       "      <th>benefits</th>\n",
       "      <th>telecommuting</th>\n",
       "      <th>has_company_logo</th>\n",
       "      <th>has_questions</th>\n",
       "      <th>employment_type</th>\n",
       "      <th>required_experience</th>\n",
       "      <th>required_education</th>\n",
       "      <th>industry</th>\n",
       "      <th>function</th>\n",
       "      <th>fraudulent</th>\n",
       "    </tr>\n",
       "  </thead>\n",
       "  <tbody>\n",
       "    <tr>\n",
       "      <th>0</th>\n",
       "      <td>1</td>\n",
       "      <td>Marketing Intern</td>\n",
       "      <td>US, NY, New York</td>\n",
       "      <td>Marketing</td>\n",
       "      <td>NaN</td>\n",
       "      <td>We're Food52, and we've created a groundbreaki...</td>\n",
       "      <td>Food52, a fast-growing, James Beard Award-winn...</td>\n",
       "      <td>Experience with content management systems a m...</td>\n",
       "      <td>NaN</td>\n",
       "      <td>0</td>\n",
       "      <td>1</td>\n",
       "      <td>0</td>\n",
       "      <td>Other</td>\n",
       "      <td>Internship</td>\n",
       "      <td>NaN</td>\n",
       "      <td>NaN</td>\n",
       "      <td>Marketing</td>\n",
       "      <td>0</td>\n",
       "    </tr>\n",
       "    <tr>\n",
       "      <th>1</th>\n",
       "      <td>2</td>\n",
       "      <td>Customer Service - Cloud Video Production</td>\n",
       "      <td>NZ, , Auckland</td>\n",
       "      <td>Success</td>\n",
       "      <td>NaN</td>\n",
       "      <td>90 Seconds, the worlds Cloud Video Production ...</td>\n",
       "      <td>Organised - Focused - Vibrant - Awesome!Do you...</td>\n",
       "      <td>What we expect from you:Your key responsibilit...</td>\n",
       "      <td>What you will get from usThrough being part of...</td>\n",
       "      <td>0</td>\n",
       "      <td>1</td>\n",
       "      <td>0</td>\n",
       "      <td>Full-time</td>\n",
       "      <td>Not Applicable</td>\n",
       "      <td>NaN</td>\n",
       "      <td>Marketing and Advertising</td>\n",
       "      <td>Customer Service</td>\n",
       "      <td>0</td>\n",
       "    </tr>\n",
       "    <tr>\n",
       "      <th>2</th>\n",
       "      <td>3</td>\n",
       "      <td>Commissioning Machinery Assistant (CMA)</td>\n",
       "      <td>US, IA, Wever</td>\n",
       "      <td>NaN</td>\n",
       "      <td>NaN</td>\n",
       "      <td>Valor Services provides Workforce Solutions th...</td>\n",
       "      <td>Our client, located in Houston, is actively se...</td>\n",
       "      <td>Implement pre-commissioning and commissioning ...</td>\n",
       "      <td>NaN</td>\n",
       "      <td>0</td>\n",
       "      <td>1</td>\n",
       "      <td>0</td>\n",
       "      <td>NaN</td>\n",
       "      <td>NaN</td>\n",
       "      <td>NaN</td>\n",
       "      <td>NaN</td>\n",
       "      <td>NaN</td>\n",
       "      <td>0</td>\n",
       "    </tr>\n",
       "    <tr>\n",
       "      <th>3</th>\n",
       "      <td>4</td>\n",
       "      <td>Account Executive - Washington DC</td>\n",
       "      <td>US, DC, Washington</td>\n",
       "      <td>Sales</td>\n",
       "      <td>NaN</td>\n",
       "      <td>Our passion for improving quality of life thro...</td>\n",
       "      <td>THE COMPANY: ESRI – Environmental Systems Rese...</td>\n",
       "      <td>EDUCATION: Bachelor’s or Master’s in GIS, busi...</td>\n",
       "      <td>Our culture is anything but corporate—we have ...</td>\n",
       "      <td>0</td>\n",
       "      <td>1</td>\n",
       "      <td>0</td>\n",
       "      <td>Full-time</td>\n",
       "      <td>Mid-Senior level</td>\n",
       "      <td>Bachelor's Degree</td>\n",
       "      <td>Computer Software</td>\n",
       "      <td>Sales</td>\n",
       "      <td>0</td>\n",
       "    </tr>\n",
       "    <tr>\n",
       "      <th>4</th>\n",
       "      <td>5</td>\n",
       "      <td>Bill Review Manager</td>\n",
       "      <td>US, FL, Fort Worth</td>\n",
       "      <td>NaN</td>\n",
       "      <td>NaN</td>\n",
       "      <td>SpotSource Solutions LLC is a Global Human Cap...</td>\n",
       "      <td>JOB TITLE: Itemization Review ManagerLOCATION:...</td>\n",
       "      <td>QUALIFICATIONS:RN license in the State of Texa...</td>\n",
       "      <td>Full Benefits Offered</td>\n",
       "      <td>0</td>\n",
       "      <td>1</td>\n",
       "      <td>1</td>\n",
       "      <td>Full-time</td>\n",
       "      <td>Mid-Senior level</td>\n",
       "      <td>Bachelor's Degree</td>\n",
       "      <td>Hospital &amp; Health Care</td>\n",
       "      <td>Health Care Provider</td>\n",
       "      <td>0</td>\n",
       "    </tr>\n",
       "    <tr>\n",
       "      <th>...</th>\n",
       "      <td>...</td>\n",
       "      <td>...</td>\n",
       "      <td>...</td>\n",
       "      <td>...</td>\n",
       "      <td>...</td>\n",
       "      <td>...</td>\n",
       "      <td>...</td>\n",
       "      <td>...</td>\n",
       "      <td>...</td>\n",
       "      <td>...</td>\n",
       "      <td>...</td>\n",
       "      <td>...</td>\n",
       "      <td>...</td>\n",
       "      <td>...</td>\n",
       "      <td>...</td>\n",
       "      <td>...</td>\n",
       "      <td>...</td>\n",
       "      <td>...</td>\n",
       "    </tr>\n",
       "    <tr>\n",
       "      <th>17875</th>\n",
       "      <td>17876</td>\n",
       "      <td>Account Director - Distribution</td>\n",
       "      <td>CA, ON, Toronto</td>\n",
       "      <td>Sales</td>\n",
       "      <td>NaN</td>\n",
       "      <td>Vend is looking for some awesome new talent to...</td>\n",
       "      <td>Just in case this is the first time you’ve vis...</td>\n",
       "      <td>To ace this role you:Will eat comprehensive St...</td>\n",
       "      <td>What can you expect from us?We have an open cu...</td>\n",
       "      <td>0</td>\n",
       "      <td>1</td>\n",
       "      <td>1</td>\n",
       "      <td>Full-time</td>\n",
       "      <td>Mid-Senior level</td>\n",
       "      <td>NaN</td>\n",
       "      <td>Computer Software</td>\n",
       "      <td>Sales</td>\n",
       "      <td>0</td>\n",
       "    </tr>\n",
       "    <tr>\n",
       "      <th>17876</th>\n",
       "      <td>17877</td>\n",
       "      <td>Payroll Accountant</td>\n",
       "      <td>US, PA, Philadelphia</td>\n",
       "      <td>Accounting</td>\n",
       "      <td>NaN</td>\n",
       "      <td>WebLinc is the e-commerce platform and service...</td>\n",
       "      <td>The Payroll Accountant will focus primarily on...</td>\n",
       "      <td>- B.A. or B.S. in Accounting- Desire to have f...</td>\n",
       "      <td>Health &amp;amp; WellnessMedical planPrescription ...</td>\n",
       "      <td>0</td>\n",
       "      <td>1</td>\n",
       "      <td>1</td>\n",
       "      <td>Full-time</td>\n",
       "      <td>Mid-Senior level</td>\n",
       "      <td>Bachelor's Degree</td>\n",
       "      <td>Internet</td>\n",
       "      <td>Accounting/Auditing</td>\n",
       "      <td>0</td>\n",
       "    </tr>\n",
       "    <tr>\n",
       "      <th>17877</th>\n",
       "      <td>17878</td>\n",
       "      <td>Project Cost Control Staff Engineer - Cost Con...</td>\n",
       "      <td>US, TX, Houston</td>\n",
       "      <td>NaN</td>\n",
       "      <td>NaN</td>\n",
       "      <td>We Provide Full Time Permanent Positions for m...</td>\n",
       "      <td>Experienced Project Cost Control Staff Enginee...</td>\n",
       "      <td>At least 12 years professional experience.Abil...</td>\n",
       "      <td>NaN</td>\n",
       "      <td>0</td>\n",
       "      <td>0</td>\n",
       "      <td>0</td>\n",
       "      <td>Full-time</td>\n",
       "      <td>NaN</td>\n",
       "      <td>NaN</td>\n",
       "      <td>NaN</td>\n",
       "      <td>NaN</td>\n",
       "      <td>0</td>\n",
       "    </tr>\n",
       "    <tr>\n",
       "      <th>17878</th>\n",
       "      <td>17879</td>\n",
       "      <td>Graphic Designer</td>\n",
       "      <td>NG, LA, Lagos</td>\n",
       "      <td>NaN</td>\n",
       "      <td>NaN</td>\n",
       "      <td>NaN</td>\n",
       "      <td>Nemsia Studios is looking for an experienced v...</td>\n",
       "      <td>1. Must be fluent in the latest versions of Co...</td>\n",
       "      <td>Competitive salary (compensation will be based...</td>\n",
       "      <td>0</td>\n",
       "      <td>0</td>\n",
       "      <td>1</td>\n",
       "      <td>Contract</td>\n",
       "      <td>Not Applicable</td>\n",
       "      <td>Professional</td>\n",
       "      <td>Graphic Design</td>\n",
       "      <td>Design</td>\n",
       "      <td>0</td>\n",
       "    </tr>\n",
       "    <tr>\n",
       "      <th>17879</th>\n",
       "      <td>17880</td>\n",
       "      <td>Web Application Developers</td>\n",
       "      <td>NZ, N, Wellington</td>\n",
       "      <td>Engineering</td>\n",
       "      <td>NaN</td>\n",
       "      <td>Vend is looking for some awesome new talent to...</td>\n",
       "      <td>Who are we?Vend is an award winning web based ...</td>\n",
       "      <td>We want to hear from you if:You have an in-dep...</td>\n",
       "      <td>NaN</td>\n",
       "      <td>0</td>\n",
       "      <td>1</td>\n",
       "      <td>1</td>\n",
       "      <td>Full-time</td>\n",
       "      <td>Mid-Senior level</td>\n",
       "      <td>NaN</td>\n",
       "      <td>Computer Software</td>\n",
       "      <td>Engineering</td>\n",
       "      <td>0</td>\n",
       "    </tr>\n",
       "  </tbody>\n",
       "</table>\n",
       "<p>17880 rows × 18 columns</p>\n",
       "</div>"
      ],
      "text/plain": [
       "       job_id                                              title  \\\n",
       "0           1                                   Marketing Intern   \n",
       "1           2          Customer Service - Cloud Video Production   \n",
       "2           3            Commissioning Machinery Assistant (CMA)   \n",
       "3           4                  Account Executive - Washington DC   \n",
       "4           5                                Bill Review Manager   \n",
       "...       ...                                                ...   \n",
       "17875   17876                   Account Director - Distribution    \n",
       "17876   17877                                 Payroll Accountant   \n",
       "17877   17878  Project Cost Control Staff Engineer - Cost Con...   \n",
       "17878   17879                                   Graphic Designer   \n",
       "17879   17880                         Web Application Developers   \n",
       "\n",
       "                   location   department salary_range  \\\n",
       "0          US, NY, New York    Marketing          NaN   \n",
       "1            NZ, , Auckland      Success          NaN   \n",
       "2             US, IA, Wever          NaN          NaN   \n",
       "3        US, DC, Washington        Sales          NaN   \n",
       "4        US, FL, Fort Worth          NaN          NaN   \n",
       "...                     ...          ...          ...   \n",
       "17875       CA, ON, Toronto        Sales          NaN   \n",
       "17876  US, PA, Philadelphia   Accounting          NaN   \n",
       "17877       US, TX, Houston          NaN          NaN   \n",
       "17878         NG, LA, Lagos          NaN          NaN   \n",
       "17879     NZ, N, Wellington  Engineering          NaN   \n",
       "\n",
       "                                         company_profile  \\\n",
       "0      We're Food52, and we've created a groundbreaki...   \n",
       "1      90 Seconds, the worlds Cloud Video Production ...   \n",
       "2      Valor Services provides Workforce Solutions th...   \n",
       "3      Our passion for improving quality of life thro...   \n",
       "4      SpotSource Solutions LLC is a Global Human Cap...   \n",
       "...                                                  ...   \n",
       "17875  Vend is looking for some awesome new talent to...   \n",
       "17876  WebLinc is the e-commerce platform and service...   \n",
       "17877  We Provide Full Time Permanent Positions for m...   \n",
       "17878                                                NaN   \n",
       "17879  Vend is looking for some awesome new talent to...   \n",
       "\n",
       "                                             description  \\\n",
       "0      Food52, a fast-growing, James Beard Award-winn...   \n",
       "1      Organised - Focused - Vibrant - Awesome!Do you...   \n",
       "2      Our client, located in Houston, is actively se...   \n",
       "3      THE COMPANY: ESRI – Environmental Systems Rese...   \n",
       "4      JOB TITLE: Itemization Review ManagerLOCATION:...   \n",
       "...                                                  ...   \n",
       "17875  Just in case this is the first time you’ve vis...   \n",
       "17876  The Payroll Accountant will focus primarily on...   \n",
       "17877  Experienced Project Cost Control Staff Enginee...   \n",
       "17878  Nemsia Studios is looking for an experienced v...   \n",
       "17879  Who are we?Vend is an award winning web based ...   \n",
       "\n",
       "                                            requirements  \\\n",
       "0      Experience with content management systems a m...   \n",
       "1      What we expect from you:Your key responsibilit...   \n",
       "2      Implement pre-commissioning and commissioning ...   \n",
       "3      EDUCATION: Bachelor’s or Master’s in GIS, busi...   \n",
       "4      QUALIFICATIONS:RN license in the State of Texa...   \n",
       "...                                                  ...   \n",
       "17875  To ace this role you:Will eat comprehensive St...   \n",
       "17876  - B.A. or B.S. in Accounting- Desire to have f...   \n",
       "17877  At least 12 years professional experience.Abil...   \n",
       "17878  1. Must be fluent in the latest versions of Co...   \n",
       "17879  We want to hear from you if:You have an in-dep...   \n",
       "\n",
       "                                                benefits  telecommuting  \\\n",
       "0                                                    NaN              0   \n",
       "1      What you will get from usThrough being part of...              0   \n",
       "2                                                    NaN              0   \n",
       "3      Our culture is anything but corporate—we have ...              0   \n",
       "4                                  Full Benefits Offered              0   \n",
       "...                                                  ...            ...   \n",
       "17875  What can you expect from us?We have an open cu...              0   \n",
       "17876  Health &amp; WellnessMedical planPrescription ...              0   \n",
       "17877                                                NaN              0   \n",
       "17878  Competitive salary (compensation will be based...              0   \n",
       "17879                                                NaN              0   \n",
       "\n",
       "       has_company_logo  has_questions employment_type required_experience  \\\n",
       "0                     1              0           Other          Internship   \n",
       "1                     1              0       Full-time      Not Applicable   \n",
       "2                     1              0             NaN                 NaN   \n",
       "3                     1              0       Full-time    Mid-Senior level   \n",
       "4                     1              1       Full-time    Mid-Senior level   \n",
       "...                 ...            ...             ...                 ...   \n",
       "17875                 1              1       Full-time    Mid-Senior level   \n",
       "17876                 1              1       Full-time    Mid-Senior level   \n",
       "17877                 0              0       Full-time                 NaN   \n",
       "17878                 0              1        Contract      Not Applicable   \n",
       "17879                 1              1       Full-time    Mid-Senior level   \n",
       "\n",
       "      required_education                   industry              function  \\\n",
       "0                    NaN                        NaN             Marketing   \n",
       "1                    NaN  Marketing and Advertising      Customer Service   \n",
       "2                    NaN                        NaN                   NaN   \n",
       "3      Bachelor's Degree          Computer Software                 Sales   \n",
       "4      Bachelor's Degree     Hospital & Health Care  Health Care Provider   \n",
       "...                  ...                        ...                   ...   \n",
       "17875                NaN          Computer Software                 Sales   \n",
       "17876  Bachelor's Degree                   Internet   Accounting/Auditing   \n",
       "17877                NaN                        NaN                   NaN   \n",
       "17878       Professional             Graphic Design                Design   \n",
       "17879                NaN          Computer Software           Engineering   \n",
       "\n",
       "       fraudulent  \n",
       "0               0  \n",
       "1               0  \n",
       "2               0  \n",
       "3               0  \n",
       "4               0  \n",
       "...           ...  \n",
       "17875           0  \n",
       "17876           0  \n",
       "17877           0  \n",
       "17878           0  \n",
       "17879           0  \n",
       "\n",
       "[17880 rows x 18 columns]"
      ]
     },
     "execution_count": 245,
     "metadata": {},
     "output_type": "execute_result"
    }
   ],
   "source": [
    "data_raw"
   ]
  },
  {
   "cell_type": "markdown",
   "id": "a6a1f7e1",
   "metadata": {},
   "source": [
    "Количество объектов:"
   ]
  },
  {
   "cell_type": "code",
   "execution_count": 246,
   "id": "3b3ec42d",
   "metadata": {},
   "outputs": [
    {
     "data": {
      "text/plain": [
       "17880"
      ]
     },
     "execution_count": 246,
     "metadata": {},
     "output_type": "execute_result"
    }
   ],
   "source": [
    "data_raw.shape[0]"
   ]
  },
  {
   "cell_type": "markdown",
   "id": "aab5c8c0",
   "metadata": {},
   "source": [
    "Количество признаков у каждого объекта:"
   ]
  },
  {
   "cell_type": "code",
   "execution_count": 247,
   "id": "2189cf89",
   "metadata": {},
   "outputs": [
    {
     "data": {
      "text/plain": [
       "18"
      ]
     },
     "execution_count": 247,
     "metadata": {},
     "output_type": "execute_result"
    }
   ],
   "source": [
    "data_raw.shape[1]"
   ]
  },
  {
   "cell_type": "markdown",
   "id": "007f9c01",
   "metadata": {},
   "source": [
    "Выведем информацию о датасете:"
   ]
  },
  {
   "cell_type": "code",
   "execution_count": 248,
   "id": "c1001ae5",
   "metadata": {},
   "outputs": [
    {
     "name": "stdout",
     "output_type": "stream",
     "text": [
      "<class 'pandas.core.frame.DataFrame'>\n",
      "RangeIndex: 17880 entries, 0 to 17879\n",
      "Data columns (total 18 columns):\n",
      " #   Column               Non-Null Count  Dtype \n",
      "---  ------               --------------  ----- \n",
      " 0   job_id               17880 non-null  int64 \n",
      " 1   title                17880 non-null  object\n",
      " 2   location             17534 non-null  object\n",
      " 3   department           6333 non-null   object\n",
      " 4   salary_range         2868 non-null   object\n",
      " 5   company_profile      14572 non-null  object\n",
      " 6   description          17879 non-null  object\n",
      " 7   requirements         15185 non-null  object\n",
      " 8   benefits             10670 non-null  object\n",
      " 9   telecommuting        17880 non-null  int64 \n",
      " 10  has_company_logo     17880 non-null  int64 \n",
      " 11  has_questions        17880 non-null  int64 \n",
      " 12  employment_type      14409 non-null  object\n",
      " 13  required_experience  10830 non-null  object\n",
      " 14  required_education   9775 non-null   object\n",
      " 15  industry             12977 non-null  object\n",
      " 16  function             11425 non-null  object\n",
      " 17  fraudulent           17880 non-null  int64 \n",
      "dtypes: int64(5), object(13)\n",
      "memory usage: 2.5+ MB\n"
     ]
    }
   ],
   "source": [
    "data_raw.info()"
   ]
  },
  {
   "cell_type": "markdown",
   "id": "ca692203",
   "metadata": {},
   "source": [
    "Разберём каждый признак:\n",
    "\n",
    "* job_id - уникальный идентификатор работы \n",
    "* title - название работы\n",
    "* location - географическое место нахождения работы \n",
    "* department - отдел работы (например, отдел продаж)\n",
    "* salary_range - диапазон заработной платы  \n",
    "* company_profile - краткое описание компании\n",
    "* description - описание объявления о работе\n",
    "* requirements - требования к кандидату на вакансию\n",
    "* benefits - льготы, предлагаемые работодателем\n",
    "* telecommuting - признак удалённой работы \n",
    "* has_company_logo - признак присутсивия у компании логотипа \n",
    "* has_questions - признак наличия проверочных вопросов для кандидата \n",
    "* employment_type - тип заработной платы (полный, неполный рабочий день, контракт и так далее)\n",
    "* required_experience - требуемый опыт кандидата (стажёр, начальный уровень и так далее) \n",
    "* required_education - требуемая степень образования кандидата (бакалавр, магистр и так далее)\n",
    "* industry - индустрия работы (IT-компания, здравоохранение, недвижемость и так далее)\n",
    "* function - функции компании (консалтинг, исследования, продажи и так далее)\n",
    "* fraudulent - целевой признак вымышленной работы\n",
    "\n",
    "Имеем 13 категориальных признаков: title, location, department, salary_range, company_profile, description, requirements, benefits, employment_type, required_experience, required_education, industry, function.\n",
    "<br>\n",
    "1 количественный признак: job_id\n",
    "<br>\n",
    "4 бинарных признака: telecommuting, has_company_logo, has_questions, fraudulent"
   ]
  },
  {
   "cell_type": "markdown",
   "id": "1c84e0ab",
   "metadata": {},
   "source": [
    "Для бинарных признаков изменим тип с int64 на тип object"
   ]
  },
  {
   "cell_type": "code",
   "execution_count": 249,
   "id": "331c6fb9",
   "metadata": {},
   "outputs": [],
   "source": [
    "data_raw['telecommuting'] = data_raw['telecommuting'].astype('object')\n",
    "data_raw['has_company_logo'] = data_raw['has_company_logo'].astype('object')\n",
    "data_raw['has_questions'] = data_raw['has_questions'].astype('object')\n",
    "data_raw['fraudulent'] = data_raw['fraudulent'].astype('object')"
   ]
  },
  {
   "cell_type": "code",
   "execution_count": 250,
   "id": "241429bb",
   "metadata": {},
   "outputs": [
    {
     "name": "stdout",
     "output_type": "stream",
     "text": [
      "<class 'pandas.core.frame.DataFrame'>\n",
      "RangeIndex: 17880 entries, 0 to 17879\n",
      "Data columns (total 18 columns):\n",
      " #   Column               Non-Null Count  Dtype \n",
      "---  ------               --------------  ----- \n",
      " 0   job_id               17880 non-null  int64 \n",
      " 1   title                17880 non-null  object\n",
      " 2   location             17534 non-null  object\n",
      " 3   department           6333 non-null   object\n",
      " 4   salary_range         2868 non-null   object\n",
      " 5   company_profile      14572 non-null  object\n",
      " 6   description          17879 non-null  object\n",
      " 7   requirements         15185 non-null  object\n",
      " 8   benefits             10670 non-null  object\n",
      " 9   telecommuting        17880 non-null  object\n",
      " 10  has_company_logo     17880 non-null  object\n",
      " 11  has_questions        17880 non-null  object\n",
      " 12  employment_type      14409 non-null  object\n",
      " 13  required_experience  10830 non-null  object\n",
      " 14  required_education   9775 non-null   object\n",
      " 15  industry             12977 non-null  object\n",
      " 16  function             11425 non-null  object\n",
      " 17  fraudulent           17880 non-null  object\n",
      "dtypes: int64(1), object(17)\n",
      "memory usage: 2.5+ MB\n"
     ]
    }
   ],
   "source": [
    "data_raw.info()"
   ]
  },
  {
   "cell_type": "markdown",
   "id": "558b315c",
   "metadata": {},
   "source": [
    "# **2. ВИЗУАЛИЗАЦИЯ ДАННЫХ И ВЫЧИСЛЕНИЕ ОСНОВНЫХ ХАРАКТЕРИСТИК. ИНТЕРПРЕТАЦИЯ ПОЛУЧЕННЫХ РЕЗУЛЬТАТОВ**\n"
   ]
  },
  {
   "cell_type": "markdown",
   "id": "f6f637ea",
   "metadata": {},
   "source": [
    "Так как единственный количественный признак - это уникальные числа, то выводить диаграмму рассеянности не имеет смысла, тем не менее убедимся в этом"
   ]
  },
  {
   "cell_type": "code",
   "execution_count": 251,
   "id": "b757b26e",
   "metadata": {},
   "outputs": [
    {
     "data": {
      "image/png": "[encoded data removed]",
      "text/plain": [
       "<Figure size 720x720 with 1 Axes>"
      ]
     },
     "metadata": {
      "needs_background": "light"
     },
     "output_type": "display_data"
    }
   ],
   "source": [
    "pd.plotting.scatter_matrix(data_raw, figsize = (10, 10), alpha = 0.05)\n",
    "pass"
   ]
  },
  {
   "cell_type": "markdown",
   "id": "ad68c615",
   "metadata": {},
   "source": [
    "Посмотрим, как соотносится количество вымышленной (1) и настоящей (0) работы"
   ]
  },
  {
   "cell_type": "code",
   "execution_count": 252,
   "id": "826b4546",
   "metadata": {},
   "outputs": [
    {
     "data": {
      "image/png": "[encoded data removed]",
      "text/plain": [
       "<Figure size 432x288 with 1 Axes>"
      ]
     },
     "metadata": {
      "needs_background": "light"
     },
     "output_type": "display_data"
    }
   ],
   "source": [
    "sns.histplot(x = 'fraudulent', data = data_raw)\n",
    "pass"
   ]
  },
  {
   "cell_type": "markdown",
   "id": "d0e6dd04",
   "metadata": {},
   "source": [
    "Из гистограммы видно, что классы несбалансированы - найдём их точное соотношение."
   ]
  },
  {
   "cell_type": "code",
   "execution_count": 253,
   "id": "1df09dbf",
   "metadata": {},
   "outputs": [
    {
     "data": {
      "text/plain": [
       "0    17014\n",
       "1      866\n",
       "Name: fraudulent, dtype: int64"
      ]
     },
     "execution_count": 253,
     "metadata": {},
     "output_type": "execute_result"
    }
   ],
   "source": [
    "data_raw['fraudulent'].value_counts()"
   ]
  },
  {
   "cell_type": "markdown",
   "id": "f2a6018b",
   "metadata": {},
   "source": [
    "Реальная работа в %:"
   ]
  },
  {
   "cell_type": "code",
   "execution_count": 254,
   "id": "a6904c6b",
   "metadata": {},
   "outputs": [
    {
     "data": {
      "text/plain": [
       "95.1565995525727"
      ]
     },
     "execution_count": 254,
     "metadata": {},
     "output_type": "execute_result"
    }
   ],
   "source": [
    "data_raw['fraudulent'].value_counts()[0] / (data_raw['fraudulent'].value_counts()[0] + data_raw['fraudulent'].value_counts()[1]) * 100"
   ]
  },
  {
   "cell_type": "markdown",
   "id": "974eacca",
   "metadata": {},
   "source": [
    "Вымышленная работа в %:"
   ]
  },
  {
   "cell_type": "code",
   "execution_count": 255,
   "id": "1a261b7b",
   "metadata": {
    "scrolled": true
   },
   "outputs": [
    {
     "data": {
      "text/plain": [
       "4.8434004474272925"
      ]
     },
     "execution_count": 255,
     "metadata": {},
     "output_type": "execute_result"
    }
   ],
   "source": [
    "(1 - data_raw['fraudulent'].value_counts()[0] / (data_raw['fraudulent'].value_counts()[0] + data_raw['fraudulent'].value_counts()[1])) * 100"
   ]
  },
  {
   "cell_type": "markdown",
   "id": "5d2af764",
   "metadata": {},
   "source": [
    "Вычислим основные статистические характеристики:\n",
    "\n",
    "* mean - среднее значение\n",
    "* std - стандартное отклонение\n",
    "* min - минимум\n",
    "* 25% - нижнее значение первого квантиля\n",
    "* 50% - медиана\n",
    "* 75% - верхнее значение первого квантиля\n",
    "* max - максимум"
   ]
  },
  {
   "cell_type": "code",
   "execution_count": 256,
   "id": "678cdfd9",
   "metadata": {},
   "outputs": [
    {
     "data": {
      "text/html": [
       "<div>\n",
       "<style scoped>\n",
       "    .dataframe tbody tr th:only-of-type {\n",
       "        vertical-align: middle;\n",
       "    }\n",
       "\n",
       "    .dataframe tbody tr th {\n",
       "        vertical-align: top;\n",
       "    }\n",
       "\n",
       "    .dataframe thead th {\n",
       "        text-align: right;\n",
       "    }\n",
       "</style>\n",
       "<table border=\"1\" class=\"dataframe\">\n",
       "  <thead>\n",
       "    <tr style=\"text-align: right;\">\n",
       "      <th></th>\n",
       "      <th>job_id</th>\n",
       "    </tr>\n",
       "  </thead>\n",
       "  <tbody>\n",
       "    <tr>\n",
       "      <th>count</th>\n",
       "      <td>17880.000000</td>\n",
       "    </tr>\n",
       "    <tr>\n",
       "      <th>mean</th>\n",
       "      <td>8940.500000</td>\n",
       "    </tr>\n",
       "    <tr>\n",
       "      <th>std</th>\n",
       "      <td>5161.655742</td>\n",
       "    </tr>\n",
       "    <tr>\n",
       "      <th>min</th>\n",
       "      <td>1.000000</td>\n",
       "    </tr>\n",
       "    <tr>\n",
       "      <th>25%</th>\n",
       "      <td>4470.750000</td>\n",
       "    </tr>\n",
       "    <tr>\n",
       "      <th>50%</th>\n",
       "      <td>8940.500000</td>\n",
       "    </tr>\n",
       "    <tr>\n",
       "      <th>75%</th>\n",
       "      <td>13410.250000</td>\n",
       "    </tr>\n",
       "    <tr>\n",
       "      <th>max</th>\n",
       "      <td>17880.000000</td>\n",
       "    </tr>\n",
       "  </tbody>\n",
       "</table>\n",
       "</div>"
      ],
      "text/plain": [
       "             job_id\n",
       "count  17880.000000\n",
       "mean    8940.500000\n",
       "std     5161.655742\n",
       "min        1.000000\n",
       "25%     4470.750000\n",
       "50%     8940.500000\n",
       "75%    13410.250000\n",
       "max    17880.000000"
      ]
     },
     "execution_count": 256,
     "metadata": {},
     "output_type": "execute_result"
    }
   ],
   "source": [
    "data_raw.describe()"
   ]
  },
  {
   "cell_type": "markdown",
   "id": "fc83a24a",
   "metadata": {},
   "source": [
    "Выбросов не будет, так как job_id - уникальный количественный признак"
   ]
  },
  {
   "cell_type": "markdown",
   "id": "7dc84fbd",
   "metadata": {},
   "source": [
    "Вычислим матрицу корреляции для количественных признаков:"
   ]
  },
  {
   "cell_type": "code",
   "execution_count": 257,
   "id": "b15a80bf",
   "metadata": {},
   "outputs": [
    {
     "data": {
      "text/html": [
       "<div>\n",
       "<style scoped>\n",
       "    .dataframe tbody tr th:only-of-type {\n",
       "        vertical-align: middle;\n",
       "    }\n",
       "\n",
       "    .dataframe tbody tr th {\n",
       "        vertical-align: top;\n",
       "    }\n",
       "\n",
       "    .dataframe thead th {\n",
       "        text-align: right;\n",
       "    }\n",
       "</style>\n",
       "<table border=\"1\" class=\"dataframe\">\n",
       "  <thead>\n",
       "    <tr style=\"text-align: right;\">\n",
       "      <th></th>\n",
       "      <th>job_id</th>\n",
       "    </tr>\n",
       "  </thead>\n",
       "  <tbody>\n",
       "    <tr>\n",
       "      <th>job_id</th>\n",
       "      <td>1.0</td>\n",
       "    </tr>\n",
       "  </tbody>\n",
       "</table>\n",
       "</div>"
      ],
      "text/plain": [
       "        job_id\n",
       "job_id     1.0"
      ]
     },
     "execution_count": 257,
     "metadata": {},
     "output_type": "execute_result"
    }
   ],
   "source": [
    "corr_mat = data_raw.corr()\n",
    "corr_mat"
   ]
  },
  {
   "cell_type": "code",
   "execution_count": 258,
   "id": "0aa9e6db",
   "metadata": {},
   "outputs": [
    {
     "data": {
      "image/png": "[encoded data removed]",
      "text/plain": [
       "<Figure size 432x288 with 2 Axes>"
      ]
     },
     "metadata": {
      "needs_background": "light"
     },
     "output_type": "display_data"
    }
   ],
   "source": [
    "sns.heatmap(corr_mat, square=True, annot=True, fmt='.2f', vmin=-1, vmax=1, cmap='coolwarm')\n",
    "pass"
   ]
  },
  {
   "cell_type": "markdown",
   "id": "3a5d268f",
   "metadata": {},
   "source": [
    "# **3. ОБРАБОТКА ПРОПУЩЕННЫХ ЗНАЧЕНИЙ**"
   ]
  },
  {
   "cell_type": "markdown",
   "id": "84e6ecb0",
   "metadata": {},
   "source": [
    "Сделаем проверку на дубликаты"
   ]
  },
  {
   "cell_type": "code",
   "execution_count": 259,
   "id": "92c28f2a",
   "metadata": {},
   "outputs": [
    {
     "data": {
      "text/html": [
       "<div>\n",
       "<style scoped>\n",
       "    .dataframe tbody tr th:only-of-type {\n",
       "        vertical-align: middle;\n",
       "    }\n",
       "\n",
       "    .dataframe tbody tr th {\n",
       "        vertical-align: top;\n",
       "    }\n",
       "\n",
       "    .dataframe thead th {\n",
       "        text-align: right;\n",
       "    }\n",
       "</style>\n",
       "<table border=\"1\" class=\"dataframe\">\n",
       "  <thead>\n",
       "    <tr style=\"text-align: right;\">\n",
       "      <th></th>\n",
       "      <th>job_id</th>\n",
       "      <th>title</th>\n",
       "      <th>location</th>\n",
       "      <th>department</th>\n",
       "      <th>salary_range</th>\n",
       "      <th>company_profile</th>\n",
       "      <th>description</th>\n",
       "      <th>requirements</th>\n",
       "      <th>benefits</th>\n",
       "      <th>telecommuting</th>\n",
       "      <th>has_company_logo</th>\n",
       "      <th>has_questions</th>\n",
       "      <th>employment_type</th>\n",
       "      <th>required_experience</th>\n",
       "      <th>required_education</th>\n",
       "      <th>industry</th>\n",
       "      <th>function</th>\n",
       "      <th>fraudulent</th>\n",
       "    </tr>\n",
       "  </thead>\n",
       "  <tbody>\n",
       "  </tbody>\n",
       "</table>\n",
       "</div>"
      ],
      "text/plain": [
       "Empty DataFrame\n",
       "Columns: [job_id, title, location, department, salary_range, company_profile, description, requirements, benefits, telecommuting, has_company_logo, has_questions, employment_type, required_experience, required_education, industry, function, fraudulent]\n",
       "Index: []"
      ]
     },
     "execution_count": 259,
     "metadata": {},
     "output_type": "execute_result"
    }
   ],
   "source": [
    "data_raw.duplicated().any()\n",
    "duplicated = data_raw.duplicated()\n",
    "data_raw[duplicated]"
   ]
  },
  {
   "cell_type": "markdown",
   "id": "4be8cf8a",
   "metadata": {},
   "source": [
    "Можем видеть, что дубликаты отсутствуют "
   ]
  },
  {
   "cell_type": "markdown",
   "id": "1600d376",
   "metadata": {},
   "source": [
    "Теперь обработаем пропущенные значения"
   ]
  },
  {
   "cell_type": "code",
   "execution_count": 260,
   "id": "619f8b4e",
   "metadata": {},
   "outputs": [
    {
     "name": "stdout",
     "output_type": "stream",
     "text": [
      "Кол-во пропусков в колонке job_id = 0\n",
      "Кол-во пропусков в колонке title = 0\n",
      "Кол-во пропусков в колонке location = 346\n",
      "Кол-во пропусков в колонке department = 11547\n",
      "Кол-во пропусков в колонке salary_range = 15012\n",
      "Кол-во пропусков в колонке company_profile = 3308\n",
      "Кол-во пропусков в колонке description = 1\n",
      "Кол-во пропусков в колонке requirements = 2695\n",
      "Кол-во пропусков в колонке benefits = 7210\n",
      "Кол-во пропусков в колонке telecommuting = 0\n",
      "Кол-во пропусков в колонке has_company_logo = 0\n",
      "Кол-во пропусков в колонке has_questions = 0\n",
      "Кол-во пропусков в колонке employment_type = 3471\n",
      "Кол-во пропусков в колонке required_experience = 7050\n",
      "Кол-во пропусков в колонке required_education = 8105\n",
      "Кол-во пропусков в колонке industry = 4903\n",
      "Кол-во пропусков в колонке function = 6455\n",
      "Кол-во пропусков в колонке fraudulent = 0\n"
     ]
    }
   ],
   "source": [
    "for col in data_raw.columns:\n",
    "    print('Кол-во пропусков в колонке %s = %d' % (col, data_raw[col].isna().sum()))"
   ]
  },
  {
   "cell_type": "markdown",
   "id": "a1e6c5b1",
   "metadata": {},
   "source": [
    "Посчитаем, какое количество пропущенных значений в датасете:"
   ]
  },
  {
   "cell_type": "code",
   "execution_count": 261,
   "id": "6ba8e90e",
   "metadata": {},
   "outputs": [
    {
     "data": {
      "text/plain": [
       "70103"
      ]
     },
     "execution_count": 261,
     "metadata": {},
     "output_type": "execute_result"
    }
   ],
   "source": [
    "sum_missing_cells = data_raw[\"location\"].isna().sum() + data_raw[\"department\"].isna().sum() + data_raw[\"salary_range\"].isna().sum() + data_raw[\"company_profile\"].isna().sum() + data_raw[\"description\"].isna().sum() + data_raw[\"requirements\"].isna().sum() + data_raw[\"benefits\"].isna().sum() + data_raw[\"employment_type\"].isna().sum() + data_raw[\"required_experience\"].isna().sum() + data_raw[\"required_education\"].isna().sum() + data_raw[\"industry\"].isna().sum() + data_raw[\"function\"].isna().sum()\n",
    "sum_missing_cells"
   ]
  },
  {
   "cell_type": "markdown",
   "id": "50efabeb",
   "metadata": {},
   "source": [
    "Количество пропущенных значений в %:"
   ]
  },
  {
   "cell_type": "code",
   "execution_count": 262,
   "id": "71cc6595",
   "metadata": {},
   "outputs": [
    {
     "data": {
      "text/plain": [
       "21.781941337310464"
      ]
     },
     "execution_count": 262,
     "metadata": {},
     "output_type": "execute_result"
    }
   ],
   "source": [
    "percent_missing_cells = (sum_missing_cells) / (data_raw.shape[0] * data_raw.shape[1]) * 100\n",
    "percent_missing_cells"
   ]
  },
  {
   "cell_type": "markdown",
   "id": "02c386a8",
   "metadata": {},
   "source": [
    "Так как у признака description лишь 1 пропущенное значение, то удалим его"
   ]
  },
  {
   "cell_type": "code",
   "execution_count": 263,
   "id": "d7edb3bd",
   "metadata": {},
   "outputs": [
    {
     "data": {
      "text/html": [
       "<div>\n",
       "<style scoped>\n",
       "    .dataframe tbody tr th:only-of-type {\n",
       "        vertical-align: middle;\n",
       "    }\n",
       "\n",
       "    .dataframe tbody tr th {\n",
       "        vertical-align: top;\n",
       "    }\n",
       "\n",
       "    .dataframe thead th {\n",
       "        text-align: right;\n",
       "    }\n",
       "</style>\n",
       "<table border=\"1\" class=\"dataframe\">\n",
       "  <thead>\n",
       "    <tr style=\"text-align: right;\">\n",
       "      <th></th>\n",
       "      <th>job_id</th>\n",
       "      <th>title</th>\n",
       "      <th>location</th>\n",
       "      <th>department</th>\n",
       "      <th>salary_range</th>\n",
       "      <th>company_profile</th>\n",
       "      <th>description</th>\n",
       "      <th>requirements</th>\n",
       "      <th>benefits</th>\n",
       "      <th>telecommuting</th>\n",
       "      <th>has_company_logo</th>\n",
       "      <th>has_questions</th>\n",
       "      <th>employment_type</th>\n",
       "      <th>required_experience</th>\n",
       "      <th>required_education</th>\n",
       "      <th>industry</th>\n",
       "      <th>function</th>\n",
       "      <th>fraudulent</th>\n",
       "    </tr>\n",
       "  </thead>\n",
       "  <tbody>\n",
       "    <tr>\n",
       "      <th>17513</th>\n",
       "      <td>17514</td>\n",
       "      <td>Office Manager</td>\n",
       "      <td>PL, MZ, Warsaw</td>\n",
       "      <td>NaN</td>\n",
       "      <td>NaN</td>\n",
       "      <td>NaN</td>\n",
       "      <td>NaN</td>\n",
       "      <td>NaN</td>\n",
       "      <td>NaN</td>\n",
       "      <td>0</td>\n",
       "      <td>0</td>\n",
       "      <td>0</td>\n",
       "      <td>NaN</td>\n",
       "      <td>NaN</td>\n",
       "      <td>NaN</td>\n",
       "      <td>NaN</td>\n",
       "      <td>NaN</td>\n",
       "      <td>1</td>\n",
       "    </tr>\n",
       "  </tbody>\n",
       "</table>\n",
       "</div>"
      ],
      "text/plain": [
       "       job_id           title        location department salary_range  \\\n",
       "17513   17514  Office Manager  PL, MZ, Warsaw        NaN          NaN   \n",
       "\n",
       "      company_profile description requirements benefits telecommuting  \\\n",
       "17513             NaN         NaN          NaN      NaN             0   \n",
       "\n",
       "      has_company_logo has_questions employment_type required_experience  \\\n",
       "17513                0             0             NaN                 NaN   \n",
       "\n",
       "      required_education industry function fraudulent  \n",
       "17513                NaN      NaN      NaN          1  "
      ]
     },
     "execution_count": 263,
     "metadata": {},
     "output_type": "execute_result"
    }
   ],
   "source": [
    "data_raw[data_raw.description.isnull()]"
   ]
  },
  {
   "cell_type": "code",
   "execution_count": 264,
   "id": "e8b060b8",
   "metadata": {},
   "outputs": [],
   "source": [
    "data_raw.drop([17513], inplace = True)"
   ]
  },
  {
   "cell_type": "markdown",
   "id": "3a1bf982",
   "metadata": {},
   "source": [
    "Оставшиеся категориальные пропущенные значения заменим модой:"
   ]
  },
  {
   "cell_type": "code",
   "execution_count": 265,
   "id": "a0215144",
   "metadata": {},
   "outputs": [],
   "source": [
    "data_raw['location'].fillna(data_raw['location'].mode().iloc[0], inplace=True)\n",
    "data_raw['department'].fillna(data_raw['department'].mode().iloc[0], inplace=True)\n",
    "data_raw['salary_range'].fillna(data_raw['salary_range'].mode().iloc[0], inplace=True)\n",
    "data_raw['company_profile'].fillna(data_raw['company_profile'].mode().iloc[0], inplace=True)\n",
    "data_raw['requirements'].fillna(data_raw['requirements'].mode().iloc[0], inplace=True)\n",
    "data_raw['benefits'].fillna(data_raw['benefits'].mode().iloc[0], inplace=True)\n",
    "data_raw['employment_type'].fillna(data_raw['employment_type'].mode().iloc[0], inplace=True)\n",
    "data_raw['required_experience'].fillna(data_raw['required_experience'].mode().iloc[0], inplace=True)\n",
    "data_raw['required_education'].fillna(data_raw['required_education'].mode().iloc[0], inplace=True)\n",
    "data_raw['industry'].fillna(data_raw['industry'].mode().iloc[0], inplace=True)\n",
    "data_raw['function'].fillna(data_raw['function'].mode().iloc[0], inplace=True)"
   ]
  },
  {
   "cell_type": "markdown",
   "id": "713deb18",
   "metadata": {},
   "source": [
    "Теперь проверим, что все пропущенные значения заполнены:"
   ]
  },
  {
   "cell_type": "code",
   "execution_count": 266,
   "id": "5469f2f9",
   "metadata": {
    "scrolled": true
   },
   "outputs": [
    {
     "data": {
      "text/plain": [
       "job_id                 0\n",
       "title                  0\n",
       "location               0\n",
       "department             0\n",
       "salary_range           0\n",
       "company_profile        0\n",
       "description            0\n",
       "requirements           0\n",
       "benefits               0\n",
       "telecommuting          0\n",
       "has_company_logo       0\n",
       "has_questions          0\n",
       "employment_type        0\n",
       "required_experience    0\n",
       "required_education     0\n",
       "industry               0\n",
       "function               0\n",
       "fraudulent             0\n",
       "dtype: int64"
      ]
     },
     "execution_count": 266,
     "metadata": {},
     "output_type": "execute_result"
    }
   ],
   "source": [
    "data_raw.isna().sum()"
   ]
  },
  {
   "cell_type": "markdown",
   "id": "2932e6cb",
   "metadata": {},
   "source": [
    "# **4. ОБРАБОТКА КАТЕГОРИАЛЬНЫХ ПРИЗНАКОВ**"
   ]
  },
  {
   "cell_type": "markdown",
   "id": "8ce6ed55",
   "metadata": {},
   "source": [
    "Вычислим статистические характеристики для категориальных и бинарных признаков\n",
    "\n",
    "* count - Количество значений для каждого признака.\n",
    "* unique - Количество уникальных значений.\n",
    "* top - Наиболее встречающееся значения среди всех.\n",
    "* freq - Частота наиболее распространенного значения."
   ]
  },
  {
   "cell_type": "code",
   "execution_count": 267,
   "id": "b3ec5482",
   "metadata": {},
   "outputs": [
    {
     "data": {
      "text/html": [
       "<div>\n",
       "<style scoped>\n",
       "    .dataframe tbody tr th:only-of-type {\n",
       "        vertical-align: middle;\n",
       "    }\n",
       "\n",
       "    .dataframe tbody tr th {\n",
       "        vertical-align: top;\n",
       "    }\n",
       "\n",
       "    .dataframe thead th {\n",
       "        text-align: right;\n",
       "    }\n",
       "</style>\n",
       "<table border=\"1\" class=\"dataframe\">\n",
       "  <thead>\n",
       "    <tr style=\"text-align: right;\">\n",
       "      <th></th>\n",
       "      <th>title</th>\n",
       "      <th>location</th>\n",
       "      <th>department</th>\n",
       "      <th>salary_range</th>\n",
       "      <th>company_profile</th>\n",
       "      <th>description</th>\n",
       "      <th>requirements</th>\n",
       "      <th>benefits</th>\n",
       "      <th>telecommuting</th>\n",
       "      <th>has_company_logo</th>\n",
       "      <th>has_questions</th>\n",
       "      <th>employment_type</th>\n",
       "      <th>required_experience</th>\n",
       "      <th>required_education</th>\n",
       "      <th>industry</th>\n",
       "      <th>function</th>\n",
       "      <th>fraudulent</th>\n",
       "    </tr>\n",
       "  </thead>\n",
       "  <tbody>\n",
       "    <tr>\n",
       "      <th>count</th>\n",
       "      <td>17879</td>\n",
       "      <td>17879</td>\n",
       "      <td>17879</td>\n",
       "      <td>17879</td>\n",
       "      <td>17879</td>\n",
       "      <td>17879</td>\n",
       "      <td>17879</td>\n",
       "      <td>17879</td>\n",
       "      <td>17879</td>\n",
       "      <td>17879</td>\n",
       "      <td>17879</td>\n",
       "      <td>17879</td>\n",
       "      <td>17879</td>\n",
       "      <td>17879</td>\n",
       "      <td>17879</td>\n",
       "      <td>17879</td>\n",
       "      <td>17879</td>\n",
       "    </tr>\n",
       "    <tr>\n",
       "      <th>unique</th>\n",
       "      <td>11231</td>\n",
       "      <td>3105</td>\n",
       "      <td>1337</td>\n",
       "      <td>874</td>\n",
       "      <td>1709</td>\n",
       "      <td>14801</td>\n",
       "      <td>11968</td>\n",
       "      <td>6205</td>\n",
       "      <td>2</td>\n",
       "      <td>2</td>\n",
       "      <td>2</td>\n",
       "      <td>5</td>\n",
       "      <td>7</td>\n",
       "      <td>13</td>\n",
       "      <td>131</td>\n",
       "      <td>37</td>\n",
       "      <td>2</td>\n",
       "    </tr>\n",
       "    <tr>\n",
       "      <th>top</th>\n",
       "      <td>English Teacher Abroad</td>\n",
       "      <td>GB, LND, London</td>\n",
       "      <td>Sales</td>\n",
       "      <td>0-0</td>\n",
       "      <td>We help teachers get safe &amp;amp; secure jobs ab...</td>\n",
       "      <td>Play with kids, get paid for it Love travel? J...</td>\n",
       "      <td>University degree required. TEFL / TESOL / CEL...</td>\n",
       "      <td>See job description</td>\n",
       "      <td>0</td>\n",
       "      <td>1</td>\n",
       "      <td>0</td>\n",
       "      <td>Full-time</td>\n",
       "      <td>Mid-Senior level</td>\n",
       "      <td>Bachelor's Degree</td>\n",
       "      <td>Information Technology and Services</td>\n",
       "      <td>Information Technology</td>\n",
       "      <td>0</td>\n",
       "    </tr>\n",
       "    <tr>\n",
       "      <th>freq</th>\n",
       "      <td>311</td>\n",
       "      <td>1064</td>\n",
       "      <td>12097</td>\n",
       "      <td>15153</td>\n",
       "      <td>4033</td>\n",
       "      <td>379</td>\n",
       "      <td>3104</td>\n",
       "      <td>7935</td>\n",
       "      <td>17112</td>\n",
       "      <td>14220</td>\n",
       "      <td>9087</td>\n",
       "      <td>15090</td>\n",
       "      <td>10858</td>\n",
       "      <td>13249</td>\n",
       "      <td>6636</td>\n",
       "      <td>8203</td>\n",
       "      <td>17014</td>\n",
       "    </tr>\n",
       "  </tbody>\n",
       "</table>\n",
       "</div>"
      ],
      "text/plain": [
       "                          title         location department salary_range  \\\n",
       "count                     17879            17879      17879        17879   \n",
       "unique                    11231             3105       1337          874   \n",
       "top     English Teacher Abroad   GB, LND, London      Sales          0-0   \n",
       "freq                        311             1064      12097        15153   \n",
       "\n",
       "                                          company_profile  \\\n",
       "count                                               17879   \n",
       "unique                                               1709   \n",
       "top     We help teachers get safe &amp; secure jobs ab...   \n",
       "freq                                                 4033   \n",
       "\n",
       "                                              description  \\\n",
       "count                                               17879   \n",
       "unique                                              14801   \n",
       "top     Play with kids, get paid for it Love travel? J...   \n",
       "freq                                                  379   \n",
       "\n",
       "                                             requirements  \\\n",
       "count                                               17879   \n",
       "unique                                              11968   \n",
       "top     University degree required. TEFL / TESOL / CEL...   \n",
       "freq                                                 3104   \n",
       "\n",
       "                   benefits  telecommuting  has_company_logo  has_questions  \\\n",
       "count                 17879          17879             17879          17879   \n",
       "unique                 6205              2                 2              2   \n",
       "top     See job description              0                 1              0   \n",
       "freq                   7935          17112             14220           9087   \n",
       "\n",
       "       employment_type required_experience required_education  \\\n",
       "count            17879               17879              17879   \n",
       "unique               5                   7                 13   \n",
       "top          Full-time    Mid-Senior level  Bachelor's Degree   \n",
       "freq             15090               10858              13249   \n",
       "\n",
       "                                   industry                function  \\\n",
       "count                                 17879                   17879   \n",
       "unique                                  131                      37   \n",
       "top     Information Technology and Services  Information Technology   \n",
       "freq                                   6636                    8203   \n",
       "\n",
       "        fraudulent  \n",
       "count        17879  \n",
       "unique           2  \n",
       "top              0  \n",
       "freq         17014  "
      ]
     },
     "execution_count": 267,
     "metadata": {},
     "output_type": "execute_result"
    }
   ],
   "source": [
    "data_raw.describe(include = [object])"
   ]
  },
  {
   "cell_type": "code",
   "execution_count": 268,
   "id": "67f0eaee",
   "metadata": {},
   "outputs": [
    {
     "data": {
      "image/png": "[encoded data removed]",
      "text/plain": [
       "<Figure size 432x288 with 1 Axes>"
      ]
     },
     "metadata": {
      "needs_background": "light"
     },
     "output_type": "display_data"
    }
   ],
   "source": [
    "sns.countplot(x = 'telecommuting', data = data_raw, order=data_raw['telecommuting'].unique())\n",
    "plt.show()"
   ]
  },
  {
   "cell_type": "markdown",
   "id": "7007fa65",
   "metadata": {},
   "source": [
    "Удалённой работы меньше, чем очной"
   ]
  },
  {
   "cell_type": "code",
   "execution_count": 269,
   "id": "8f57a0a2",
   "metadata": {},
   "outputs": [
    {
     "data": {
      "image/png": "[encoded data removed]",
      "text/plain": [
       "<Figure size 432x288 with 1 Axes>"
      ]
     },
     "metadata": {
      "needs_background": "light"
     },
     "output_type": "display_data"
    }
   ],
   "source": [
    "sns.countplot(x='telecommuting', hue='fraudulent', data=data_raw)\n",
    "pass"
   ]
  },
  {
   "cell_type": "code",
   "execution_count": 270,
   "id": "66647f1a",
   "metadata": {},
   "outputs": [
    {
     "data": {
      "image/png": "[encoded data removed]",
      "text/plain": [
       "<Figure size 432x288 with 1 Axes>"
      ]
     },
     "metadata": {
      "needs_background": "light"
     },
     "output_type": "display_data"
    }
   ],
   "source": [
    "sns.countplot(x = 'has_company_logo', data = data_raw, order=data_raw['has_company_logo'].unique())\n",
    "plt.show()"
   ]
  },
  {
   "cell_type": "markdown",
   "id": "98773020",
   "metadata": {},
   "source": [
    "У большинства компаний присутствует логотип"
   ]
  },
  {
   "cell_type": "code",
   "execution_count": 271,
   "id": "cde66cb6",
   "metadata": {},
   "outputs": [
    {
     "data": {
      "image/png": "[encoded data removed]",
      "text/plain": [
       "<Figure size 432x288 with 1 Axes>"
      ]
     },
     "metadata": {
      "needs_background": "light"
     },
     "output_type": "display_data"
    }
   ],
   "source": [
    "sns.countplot(x='has_company_logo', hue='fraudulent', data=data_raw)\n",
    "pass"
   ]
  },
  {
   "cell_type": "code",
   "execution_count": 272,
   "id": "53fdc9e4",
   "metadata": {},
   "outputs": [
    {
     "data": {
      "image/png": "[encoded data removed]",
      "text/plain": [
       "<Figure size 432x288 with 1 Axes>"
      ]
     },
     "metadata": {
      "needs_background": "light"
     },
     "output_type": "display_data"
    }
   ],
   "source": [
    "sns.countplot(x = 'has_questions', data = data_raw, order=data_raw['has_questions'].unique())\n",
    "plt.show()"
   ]
  },
  {
   "cell_type": "markdown",
   "id": "18ffafeb",
   "metadata": {},
   "source": [
    "Поровну распределились компании, у которых есть проверочные вопросы для кандидатов и у которых их нет"
   ]
  },
  {
   "cell_type": "code",
   "execution_count": 273,
   "id": "015f8a8e",
   "metadata": {},
   "outputs": [
    {
     "data": {
      "image/png": "[encoded data removed]",
      "text/plain": [
       "<Figure size 432x288 with 1 Axes>"
      ]
     },
     "metadata": {
      "needs_background": "light"
     },
     "output_type": "display_data"
    }
   ],
   "source": [
    "sns.countplot(x='has_questions', hue='fraudulent', data=data_raw)\n",
    "pass"
   ]
  },
  {
   "cell_type": "code",
   "execution_count": 274,
   "id": "07093d85",
   "metadata": {},
   "outputs": [
    {
     "data": {
      "image/png": "[encoded data removed]",
      "text/plain": [
       "<Figure size 432x288 with 1 Axes>"
      ]
     },
     "metadata": {
      "needs_background": "light"
     },
     "output_type": "display_data"
    }
   ],
   "source": [
    "sns.countplot(x = 'employment_type', data = data_raw, order=data_raw['employment_type'].unique())\n",
    "plt.show()"
   ]
  },
  {
   "cell_type": "markdown",
   "id": "b9d33cfb",
   "metadata": {},
   "source": [
    "В большинстве компаний полный рабочий день"
   ]
  },
  {
   "cell_type": "code",
   "execution_count": 275,
   "id": "dacea2cd",
   "metadata": {},
   "outputs": [
    {
     "data": {
      "image/png": "[encoded data removed]",
      "text/plain": [
       "<Figure size 432x288 with 1 Axes>"
      ]
     },
     "metadata": {
      "needs_background": "light"
     },
     "output_type": "display_data"
    }
   ],
   "source": [
    "sns.countplot(x='employment_type', hue='fraudulent', data=data_raw)\n",
    "pass"
   ]
  },
  {
   "cell_type": "code",
   "execution_count": 276,
   "id": "b00cc419",
   "metadata": {},
   "outputs": [
    {
     "data": {
      "image/png": "[encoded data removed]",
      "text/plain": [
       "<Figure size 432x288 with 1 Axes>"
      ]
     },
     "metadata": {
      "needs_background": "light"
     },
     "output_type": "display_data"
    }
   ],
   "source": [
    "ax = sns.countplot(x = 'required_experience', data = data_raw, order=data_raw['required_experience'].unique())\n",
    "ax.set_xticklabels(ax.get_xticklabels(), rotation=40, ha=\"right\")\n",
    "plt.tight_layout()\n",
    "plt.show()"
   ]
  },
  {
   "cell_type": "markdown",
   "id": "133c4460",
   "metadata": {},
   "source": [
    "Преобладает средне-старший уровень опыта кандидата"
   ]
  },
  {
   "cell_type": "code",
   "execution_count": 277,
   "id": "5193ede1",
   "metadata": {},
   "outputs": [
    {
     "data": {
      "image/png": "[encoded data removed]",
      "text/plain": [
       "<Figure size 432x288 with 1 Axes>"
      ]
     },
     "metadata": {
      "needs_background": "light"
     },
     "output_type": "display_data"
    }
   ],
   "source": [
    "ax = sns.countplot(x='required_experience', hue='fraudulent', data=data_raw)\n",
    "ax.set_xticklabels(ax.get_xticklabels(), rotation=40, ha=\"right\")\n",
    "plt.tight_layout()\n",
    "pass"
   ]
  },
  {
   "cell_type": "code",
   "execution_count": 278,
   "id": "5338e69c",
   "metadata": {},
   "outputs": [
    {
     "data": {
      "image/png": "[encoded data removed]",
      "text/plain": [
       "<Figure size 432x288 with 1 Axes>"
      ]
     },
     "metadata": {
      "needs_background": "light"
     },
     "output_type": "display_data"
    }
   ],
   "source": [
    "ax = sns.countplot(x = 'required_education', data = data_raw, order=data_raw['required_education'].unique())\n",
    "ax.set_xticklabels(ax.get_xticklabels(), rotation=40, ha=\"right\")\n",
    "plt.tight_layout()\n",
    "plt.show()"
   ]
  },
  {
   "cell_type": "markdown",
   "id": "92b21033",
   "metadata": {},
   "source": [
    "Требуется преимущественно окончание бакалавриата"
   ]
  },
  {
   "cell_type": "code",
   "execution_count": 279,
   "id": "e65ed467",
   "metadata": {},
   "outputs": [
    {
     "data": {
      "image/png": "[encoded data removed]",
      "text/plain": [
       "<Figure size 432x288 with 1 Axes>"
      ]
     },
     "metadata": {
      "needs_background": "light"
     },
     "output_type": "display_data"
    }
   ],
   "source": [
    "ax = sns.countplot(x='required_education', hue='fraudulent', data=data_raw)\n",
    "ax.set_xticklabels(ax.get_xticklabels(), rotation=40, ha=\"right\")\n",
    "plt.tight_layout()\n",
    "pass"
   ]
  },
  {
   "cell_type": "markdown",
   "id": "b1676f16",
   "metadata": {},
   "source": [
    "Избавимся от лишних признаков"
   ]
  },
  {
   "cell_type": "code",
   "execution_count": 280,
   "id": "3c8ff129",
   "metadata": {},
   "outputs": [],
   "source": [
    "data = data_raw.drop(['job_id'], axis = 1, inplace = True)\n",
    "data = data_raw.drop(['title'], axis = 1, inplace = True)\n",
    "data = data_raw.drop(['location'], axis = 1, inplace = True)\n",
    "data = data_raw.drop(['department'], axis = 1, inplace = True)\n",
    "data = data_raw.drop(['salary_range'], axis = 1, inplace = True)\n",
    "data = data_raw.drop(['company_profile'], axis = 1, inplace = True)\n",
    "data = data_raw.drop(['description'], axis = 1, inplace = True)\n",
    "data = data_raw.drop(['requirements'], axis = 1, inplace = True)\n",
    "data = data_raw.drop(['benefits'], axis = 1, inplace = True)"
   ]
  },
  {
   "cell_type": "markdown",
   "id": "b635831d",
   "metadata": {},
   "source": [
    "Теперь к небинарным категориальным признакам применим метод бинаризации:"
   ]
  },
  {
   "cell_type": "code",
   "execution_count": 281,
   "id": "dd30187d",
   "metadata": {
    "scrolled": true
   },
   "outputs": [
    {
     "name": "stdout",
     "output_type": "stream",
     "text": [
      "Index(['employment_type_Contract', 'employment_type_Full-time',\n",
      "       'employment_type_Other', 'employment_type_Part-time',\n",
      "       'employment_type_Temporary', 'required_experience_Associate',\n",
      "       'required_experience_Director', 'required_experience_Entry level',\n",
      "       'required_experience_Executive', 'required_experience_Internship',\n",
      "       ...\n",
      "       'function_Public Relations', 'function_Purchasing',\n",
      "       'function_Quality Assurance', 'function_Research', 'function_Sales',\n",
      "       'function_Science', 'function_Strategy/Planning',\n",
      "       'function_Supply Chain', 'function_Training',\n",
      "       'function_Writing/Editing'],\n",
      "      dtype='object', length=193)\n"
     ]
    }
   ],
   "source": [
    "data_nonbinary = pd.get_dummies(data_raw[['employment_type', 'required_experience', 'required_education', 'industry', 'function']])\n",
    "print(data_nonbinary.columns)"
   ]
  },
  {
   "cell_type": "code",
   "execution_count": 282,
   "id": "0823ab8b",
   "metadata": {},
   "outputs": [],
   "source": [
    "data_raw = pd.concat((data_raw, data_nonbinary), axis=1).drop(['employment_type', 'required_experience', 'required_education', 'industry', 'function'], axis=1)"
   ]
  },
  {
   "cell_type": "code",
   "execution_count": 283,
   "id": "a9a7d199",
   "metadata": {},
   "outputs": [
    {
     "data": {
      "text/html": [
       "<div>\n",
       "<style scoped>\n",
       "    .dataframe tbody tr th:only-of-type {\n",
       "        vertical-align: middle;\n",
       "    }\n",
       "\n",
       "    .dataframe tbody tr th {\n",
       "        vertical-align: top;\n",
       "    }\n",
       "\n",
       "    .dataframe thead th {\n",
       "        text-align: right;\n",
       "    }\n",
       "</style>\n",
       "<table border=\"1\" class=\"dataframe\">\n",
       "  <thead>\n",
       "    <tr style=\"text-align: right;\">\n",
       "      <th></th>\n",
       "      <th>telecommuting</th>\n",
       "      <th>has_company_logo</th>\n",
       "      <th>has_questions</th>\n",
       "      <th>fraudulent</th>\n",
       "      <th>employment_type_Contract</th>\n",
       "      <th>employment_type_Full-time</th>\n",
       "      <th>employment_type_Other</th>\n",
       "      <th>employment_type_Part-time</th>\n",
       "      <th>employment_type_Temporary</th>\n",
       "      <th>required_experience_Associate</th>\n",
       "      <th>...</th>\n",
       "      <th>function_Public Relations</th>\n",
       "      <th>function_Purchasing</th>\n",
       "      <th>function_Quality Assurance</th>\n",
       "      <th>function_Research</th>\n",
       "      <th>function_Sales</th>\n",
       "      <th>function_Science</th>\n",
       "      <th>function_Strategy/Planning</th>\n",
       "      <th>function_Supply Chain</th>\n",
       "      <th>function_Training</th>\n",
       "      <th>function_Writing/Editing</th>\n",
       "    </tr>\n",
       "  </thead>\n",
       "  <tbody>\n",
       "    <tr>\n",
       "      <th>0</th>\n",
       "      <td>0</td>\n",
       "      <td>1</td>\n",
       "      <td>0</td>\n",
       "      <td>0</td>\n",
       "      <td>0</td>\n",
       "      <td>0</td>\n",
       "      <td>1</td>\n",
       "      <td>0</td>\n",
       "      <td>0</td>\n",
       "      <td>0</td>\n",
       "      <td>...</td>\n",
       "      <td>0</td>\n",
       "      <td>0</td>\n",
       "      <td>0</td>\n",
       "      <td>0</td>\n",
       "      <td>0</td>\n",
       "      <td>0</td>\n",
       "      <td>0</td>\n",
       "      <td>0</td>\n",
       "      <td>0</td>\n",
       "      <td>0</td>\n",
       "    </tr>\n",
       "    <tr>\n",
       "      <th>1</th>\n",
       "      <td>0</td>\n",
       "      <td>1</td>\n",
       "      <td>0</td>\n",
       "      <td>0</td>\n",
       "      <td>0</td>\n",
       "      <td>1</td>\n",
       "      <td>0</td>\n",
       "      <td>0</td>\n",
       "      <td>0</td>\n",
       "      <td>0</td>\n",
       "      <td>...</td>\n",
       "      <td>0</td>\n",
       "      <td>0</td>\n",
       "      <td>0</td>\n",
       "      <td>0</td>\n",
       "      <td>0</td>\n",
       "      <td>0</td>\n",
       "      <td>0</td>\n",
       "      <td>0</td>\n",
       "      <td>0</td>\n",
       "      <td>0</td>\n",
       "    </tr>\n",
       "    <tr>\n",
       "      <th>2</th>\n",
       "      <td>0</td>\n",
       "      <td>1</td>\n",
       "      <td>0</td>\n",
       "      <td>0</td>\n",
       "      <td>0</td>\n",
       "      <td>1</td>\n",
       "      <td>0</td>\n",
       "      <td>0</td>\n",
       "      <td>0</td>\n",
       "      <td>0</td>\n",
       "      <td>...</td>\n",
       "      <td>0</td>\n",
       "      <td>0</td>\n",
       "      <td>0</td>\n",
       "      <td>0</td>\n",
       "      <td>0</td>\n",
       "      <td>0</td>\n",
       "      <td>0</td>\n",
       "      <td>0</td>\n",
       "      <td>0</td>\n",
       "      <td>0</td>\n",
       "    </tr>\n",
       "    <tr>\n",
       "      <th>3</th>\n",
       "      <td>0</td>\n",
       "      <td>1</td>\n",
       "      <td>0</td>\n",
       "      <td>0</td>\n",
       "      <td>0</td>\n",
       "      <td>1</td>\n",
       "      <td>0</td>\n",
       "      <td>0</td>\n",
       "      <td>0</td>\n",
       "      <td>0</td>\n",
       "      <td>...</td>\n",
       "      <td>0</td>\n",
       "      <td>0</td>\n",
       "      <td>0</td>\n",
       "      <td>0</td>\n",
       "      <td>1</td>\n",
       "      <td>0</td>\n",
       "      <td>0</td>\n",
       "      <td>0</td>\n",
       "      <td>0</td>\n",
       "      <td>0</td>\n",
       "    </tr>\n",
       "    <tr>\n",
       "      <th>4</th>\n",
       "      <td>0</td>\n",
       "      <td>1</td>\n",
       "      <td>1</td>\n",
       "      <td>0</td>\n",
       "      <td>0</td>\n",
       "      <td>1</td>\n",
       "      <td>0</td>\n",
       "      <td>0</td>\n",
       "      <td>0</td>\n",
       "      <td>0</td>\n",
       "      <td>...</td>\n",
       "      <td>0</td>\n",
       "      <td>0</td>\n",
       "      <td>0</td>\n",
       "      <td>0</td>\n",
       "      <td>0</td>\n",
       "      <td>0</td>\n",
       "      <td>0</td>\n",
       "      <td>0</td>\n",
       "      <td>0</td>\n",
       "      <td>0</td>\n",
       "    </tr>\n",
       "  </tbody>\n",
       "</table>\n",
       "<p>5 rows × 197 columns</p>\n",
       "</div>"
      ],
      "text/plain": [
       "  telecommuting has_company_logo has_questions fraudulent  \\\n",
       "0             0                1             0          0   \n",
       "1             0                1             0          0   \n",
       "2             0                1             0          0   \n",
       "3             0                1             0          0   \n",
       "4             0                1             1          0   \n",
       "\n",
       "   employment_type_Contract  employment_type_Full-time  employment_type_Other  \\\n",
       "0                         0                          0                      1   \n",
       "1                         0                          1                      0   \n",
       "2                         0                          1                      0   \n",
       "3                         0                          1                      0   \n",
       "4                         0                          1                      0   \n",
       "\n",
       "   employment_type_Part-time  employment_type_Temporary  \\\n",
       "0                          0                          0   \n",
       "1                          0                          0   \n",
       "2                          0                          0   \n",
       "3                          0                          0   \n",
       "4                          0                          0   \n",
       "\n",
       "   required_experience_Associate  ...  function_Public Relations  \\\n",
       "0                              0  ...                          0   \n",
       "1                              0  ...                          0   \n",
       "2                              0  ...                          0   \n",
       "3                              0  ...                          0   \n",
       "4                              0  ...                          0   \n",
       "\n",
       "   function_Purchasing  function_Quality Assurance  function_Research  \\\n",
       "0                    0                           0                  0   \n",
       "1                    0                           0                  0   \n",
       "2                    0                           0                  0   \n",
       "3                    0                           0                  0   \n",
       "4                    0                           0                  0   \n",
       "\n",
       "   function_Sales  function_Science  function_Strategy/Planning  \\\n",
       "0               0                 0                           0   \n",
       "1               0                 0                           0   \n",
       "2               0                 0                           0   \n",
       "3               1                 0                           0   \n",
       "4               0                 0                           0   \n",
       "\n",
       "   function_Supply Chain  function_Training  function_Writing/Editing  \n",
       "0                      0                  0                         0  \n",
       "1                      0                  0                         0  \n",
       "2                      0                  0                         0  \n",
       "3                      0                  0                         0  \n",
       "4                      0                  0                         0  \n",
       "\n",
       "[5 rows x 197 columns]"
      ]
     },
     "execution_count": 283,
     "metadata": {},
     "output_type": "execute_result"
    }
   ],
   "source": [
    "data_raw.head()"
   ]
  },
  {
   "cell_type": "markdown",
   "id": "d9bd785f",
   "metadata": {},
   "source": [
    "# **5. ПРОВЕДЕНИЕ НОРМАЛИЗАЦИИ**"
   ]
  },
  {
   "cell_type": "markdown",
   "id": "711ec119",
   "metadata": {},
   "source": [
    "Так как в нашем случае присутствуют лишь бинарные признаки и не осталось количественных, то нормализацию проводить не нужно."
   ]
  },
  {
   "cell_type": "markdown",
   "id": "06193b52",
   "metadata": {},
   "source": [
    "# **6. РАЗБИЕНИЕ ДАННЫХ НА ОБУЧАЮЩУЮ И ТЕСТОВУЮ ВЫБОРКИ**"
   ]
  },
  {
   "cell_type": "code",
   "execution_count": 284,
   "id": "bcb95dde",
   "metadata": {},
   "outputs": [
    {
     "name": "stdout",
     "output_type": "stream",
     "text": [
      "12515 5364\n"
     ]
    }
   ],
   "source": [
    "from sklearn.model_selection import train_test_split\n",
    "\n",
    "X = data_raw.drop('fraudulent', axis = 1)\n",
    "y = data_raw['fraudulent'].astype('int64')\n",
    "\n",
    "\n",
    "X_train, X_test, y_train, y_test = train_test_split(X, y, test_size=0.3, random_state=42)\n",
    "\n",
    "N_train, _ = X_train.shape \n",
    "N_test,  _ = X_test.shape \n",
    "\n",
    "print(N_train, N_test)"
   ]
  },
  {
   "cell_type": "markdown",
   "id": "dcd5ab5d",
   "metadata": {},
   "source": [
    "# **7. КЛАССИФИКАТОР БЛИЖАЙШИХ СОСЕДЕЙ**"
   ]
  },
  {
   "cell_type": "code",
   "execution_count": 285,
   "id": "04dcd54a",
   "metadata": {},
   "outputs": [
    {
     "data": {
      "text/html": [
       "<style>#sk-container-id-2 {color: black;background-color: white;}#sk-container-id-2 pre{padding: 0;}#sk-container-id-2 div.sk-toggleable {background-color: white;}#sk-container-id-2 label.sk-toggleable__label {cursor: pointer;display: block;width: 100%;margin-bottom: 0;padding: 0.3em;box-sizing: border-box;text-align: center;}#sk-container-id-2 label.sk-toggleable__label-arrow:before {content: \"▸\";float: left;margin-right: 0.25em;color: #696969;}#sk-container-id-2 label.sk-toggleable__label-arrow:hover:before {color: black;}#sk-container-id-2 div.sk-estimator:hover label.sk-toggleable__label-arrow:before {color: black;}#sk-container-id-2 div.sk-toggleable__content {max-height: 0;max-width: 0;overflow: hidden;text-align: left;background-color: #f0f8ff;}#sk-container-id-2 div.sk-toggleable__content pre {margin: 0.2em;color: black;border-radius: 0.25em;background-color: #f0f8ff;}#sk-container-id-2 input.sk-toggleable__control:checked~div.sk-toggleable__content {max-height: 200px;max-width: 100%;overflow: auto;}#sk-container-id-2 input.sk-toggleable__control:checked~label.sk-toggleable__label-arrow:before {content: \"▾\";}#sk-container-id-2 div.sk-estimator input.sk-toggleable__control:checked~label.sk-toggleable__label {background-color: #d4ebff;}#sk-container-id-2 div.sk-label input.sk-toggleable__control:checked~label.sk-toggleable__label {background-color: #d4ebff;}#sk-container-id-2 input.sk-hidden--visually {border: 0;clip: rect(1px 1px 1px 1px);clip: rect(1px, 1px, 1px, 1px);height: 1px;margin: -1px;overflow: hidden;padding: 0;position: absolute;width: 1px;}#sk-container-id-2 div.sk-estimator {font-family: monospace;background-color: #f0f8ff;border: 1px dotted black;border-radius: 0.25em;box-sizing: border-box;margin-bottom: 0.5em;}#sk-container-id-2 div.sk-estimator:hover {background-color: #d4ebff;}#sk-container-id-2 div.sk-parallel-item::after {content: \"\";width: 100%;border-bottom: 1px solid gray;flex-grow: 1;}#sk-container-id-2 div.sk-label:hover label.sk-toggleable__label {background-color: #d4ebff;}#sk-container-id-2 div.sk-serial::before {content: \"\";position: absolute;border-left: 1px solid gray;box-sizing: border-box;top: 0;bottom: 0;left: 50%;z-index: 0;}#sk-container-id-2 div.sk-serial {display: flex;flex-direction: column;align-items: center;background-color: white;padding-right: 0.2em;padding-left: 0.2em;position: relative;}#sk-container-id-2 div.sk-item {position: relative;z-index: 1;}#sk-container-id-2 div.sk-parallel {display: flex;align-items: stretch;justify-content: center;background-color: white;position: relative;}#sk-container-id-2 div.sk-item::before, #sk-container-id-2 div.sk-parallel-item::before {content: \"\";position: absolute;border-left: 1px solid gray;box-sizing: border-box;top: 0;bottom: 0;left: 50%;z-index: -1;}#sk-container-id-2 div.sk-parallel-item {display: flex;flex-direction: column;z-index: 1;position: relative;background-color: white;}#sk-container-id-2 div.sk-parallel-item:first-child::after {align-self: flex-end;width: 50%;}#sk-container-id-2 div.sk-parallel-item:last-child::after {align-self: flex-start;width: 50%;}#sk-container-id-2 div.sk-parallel-item:only-child::after {width: 0;}#sk-container-id-2 div.sk-dashed-wrapped {border: 1px dashed gray;margin: 0 0.4em 0.5em 0.4em;box-sizing: border-box;padding-bottom: 0.4em;background-color: white;}#sk-container-id-2 div.sk-label label {font-family: monospace;font-weight: bold;display: inline-block;line-height: 1.2em;}#sk-container-id-2 div.sk-label-container {text-align: center;}#sk-container-id-2 div.sk-container {/* jupyter's `normalize.less` sets `[hidden] { display: none; }` but bootstrap.min.css set `[hidden] { display: none !important; }` so we also need the `!important` here to be able to override the default hidden behavior on the sphinx rendered scikit-learn.org. See: https://github.com/scikit-learn/scikit-learn/issues/21755 */display: inline-block !important;position: relative;}#sk-container-id-2 div.sk-text-repr-fallback {display: none;}</style><div id=\"sk-container-id-2\" class=\"sk-top-container\"><div class=\"sk-text-repr-fallback\"><pre>KNeighborsClassifier(n_neighbors=3)</pre><b>In a Jupyter environment, please rerun this cell to show the HTML representation or trust the notebook. <br />On GitHub, the HTML representation is unable to render, please try loading this page with nbviewer.org.</b></div><div class=\"sk-container\" hidden><div class=\"sk-item\"><div class=\"sk-estimator sk-toggleable\"><input class=\"sk-toggleable__control sk-hidden--visually\" id=\"sk-estimator-id-2\" type=\"checkbox\" checked><label for=\"sk-estimator-id-2\" class=\"sk-toggleable__label sk-toggleable__label-arrow\">KNeighborsClassifier</label><div class=\"sk-toggleable__content\"><pre>KNeighborsClassifier(n_neighbors=3)</pre></div></div></div></div></div>"
      ],
      "text/plain": [
       "KNeighborsClassifier(n_neighbors=3)"
      ]
     },
     "execution_count": 285,
     "metadata": {},
     "output_type": "execute_result"
    }
   ],
   "source": [
    "from sklearn.neighbors import KNeighborsClassifier\n",
    "\n",
    "neighbours = [3, 5, 7, 10, 12, 15, 18, 20]\n",
    "model = KNeighborsClassifier(n_neighbors=3)\n",
    "model.fit(X_train, y_train)"
   ]
  },
  {
   "cell_type": "markdown",
   "id": "2fc748bd",
   "metadata": {},
   "source": [
    "# **8. ВЫЧИСЛЕНИЕ ОШИБОК НА ОБУЧАЮЩЕЙ И ТЕСТОВОЙ ВЫБОРКАХ. ВЫВОДЫ**"
   ]
  },
  {
   "cell_type": "code",
   "execution_count": 289,
   "id": "6491cc55",
   "metadata": {},
   "outputs": [
    {
     "data": {
      "text/plain": [
       "(0.03587694766280464, 0.03859060402684564)"
      ]
     },
     "execution_count": 289,
     "metadata": {},
     "output_type": "execute_result"
    }
   ],
   "source": [
    "y_train_predict = model.predict(X_train)\n",
    "y_test_predict  = model.predict(X_test)\n",
    "\n",
    "np.mean(y_train != y_train_predict), np.mean(y_test != y_test_predict)"
   ]
  },
  {
   "cell_type": "code",
   "execution_count": 290,
   "id": "b322abbe",
   "metadata": {},
   "outputs": [],
   "source": [
    "errs_train = []\n",
    "errs_test = []\n",
    "for i in neighbours:    \n",
    "    model = KNeighborsClassifier(n_neighbors=i)\n",
    "    model.fit(X_train, y_train)\n",
    "    y_train_predict = model.predict(X_train)\n",
    "    y_test_predict  = model.predict(X_test)\n",
    "    errs_train.append(np.mean(y_train != y_train_predict))\n",
    "    errs_test.append(np.mean(y_test != y_test_predict))"
   ]
  },
  {
   "cell_type": "code",
   "execution_count": 291,
   "id": "2813a421",
   "metadata": {},
   "outputs": [
    {
     "data": {
      "text/html": [
       "<div>\n",
       "<style scoped>\n",
       "    .dataframe tbody tr th:only-of-type {\n",
       "        vertical-align: middle;\n",
       "    }\n",
       "\n",
       "    .dataframe tbody tr th {\n",
       "        vertical-align: top;\n",
       "    }\n",
       "\n",
       "    .dataframe thead th {\n",
       "        text-align: right;\n",
       "    }\n",
       "</style>\n",
       "<table border=\"1\" class=\"dataframe\">\n",
       "  <thead>\n",
       "    <tr style=\"text-align: right;\">\n",
       "      <th></th>\n",
       "      <th>3</th>\n",
       "      <th>5</th>\n",
       "      <th>7</th>\n",
       "      <th>10</th>\n",
       "      <th>12</th>\n",
       "      <th>15</th>\n",
       "      <th>18</th>\n",
       "      <th>20</th>\n",
       "    </tr>\n",
       "  </thead>\n",
       "  <tbody>\n",
       "    <tr>\n",
       "      <th>0</th>\n",
       "      <td>0.028126</td>\n",
       "      <td>0.029325</td>\n",
       "      <td>0.030284</td>\n",
       "      <td>0.032121</td>\n",
       "      <td>0.034359</td>\n",
       "      <td>0.033959</td>\n",
       "      <td>0.035158</td>\n",
       "      <td>0.035877</td>\n",
       "    </tr>\n",
       "    <tr>\n",
       "      <th>1</th>\n",
       "      <td>0.031693</td>\n",
       "      <td>0.032066</td>\n",
       "      <td>0.032252</td>\n",
       "      <td>0.034303</td>\n",
       "      <td>0.038031</td>\n",
       "      <td>0.035794</td>\n",
       "      <td>0.038031</td>\n",
       "      <td>0.038591</td>\n",
       "    </tr>\n",
       "  </tbody>\n",
       "</table>\n",
       "</div>"
      ],
      "text/plain": [
       "         3         5         7         10        12        15        18  \\\n",
       "0  0.028126  0.029325  0.030284  0.032121  0.034359  0.033959  0.035158   \n",
       "1  0.031693  0.032066  0.032252  0.034303  0.038031  0.035794  0.038031   \n",
       "\n",
       "         20  \n",
       "0  0.035877  \n",
       "1  0.038591  "
      ]
     },
     "execution_count": 291,
     "metadata": {},
     "output_type": "execute_result"
    }
   ],
   "source": [
    "mat = pd.DataFrame([errs_train, errs_test], columns = neighbours)\n",
    "mat"
   ]
  },
  {
   "cell_type": "markdown",
   "id": "38a80391",
   "metadata": {},
   "source": [
    "Ошибка на тестовой выборке во всех случаях немного больше"
   ]
  },
  {
   "cell_type": "markdown",
   "id": "437da052",
   "metadata": {},
   "source": [
    "Построим матрицу рассогласования:"
   ]
  },
  {
   "cell_type": "code",
   "execution_count": 293,
   "id": "35dcf6cb",
   "metadata": {},
   "outputs": [
    {
     "data": {
      "image/png": "[encoded data removed]",
      "text/plain": [
       "<Figure size 432x288 with 2 Axes>"
      ]
     },
     "metadata": {
      "needs_background": "light"
     },
     "output_type": "display_data"
    }
   ],
   "source": [
    "from sklearn.metrics import ConfusionMatrixDisplay\n",
    "ConfusionMatrixDisplay.from_estimator(model, X_test, y_test, cmap=plt.cm.Blues)\n",
    "pass"
   ]
  },
  {
   "cell_type": "markdown",
   "id": "7252f2ea",
   "metadata": {},
   "source": [
    "# **9. ЛОГИСТИЧЕСКАЯ РЕГРЕССИЯ**"
   ]
  },
  {
   "cell_type": "code",
   "execution_count": 294,
   "id": "6d54eb53",
   "metadata": {},
   "outputs": [
    {
     "name": "stdout",
     "output_type": "stream",
     "text": [
      "0.04266879744306832 0.04399701715137957\n"
     ]
    }
   ],
   "source": [
    "from sklearn.linear_model import LogisticRegression\n",
    "\n",
    "lg = LogisticRegression()\n",
    "lg.fit(X_train, y_train)\n",
    "Y_train_predict = lg.predict(X_train)\n",
    "Y_test_predict = lg.predict(X_test)\n",
    "\n",
    "err_train = np.mean(y_train != Y_train_predict)\n",
    "err_test  = np.mean(y_test  != Y_test_predict)\n",
    "\n",
    "print(err_train, err_test)"
   ]
  },
  {
   "cell_type": "markdown",
   "id": "a19fc9df",
   "metadata": {},
   "source": [
    "Имеем:\n",
    "\n",
    "Ошибка на обучающей выборке: 0.04266879744306832\n",
    "\n",
    "Ошибка на тестовой выборке: 0.04399701715137957"
   ]
  },
  {
   "cell_type": "markdown",
   "id": "81fb67c8",
   "metadata": {},
   "source": [
    "Построим матрицу рассогласования:"
   ]
  },
  {
   "cell_type": "code",
   "execution_count": 295,
   "id": "24dc7e3c",
   "metadata": {},
   "outputs": [
    {
     "data": {
      "text/plain": [
       "<sklearn.metrics._plot.confusion_matrix.ConfusionMatrixDisplay at 0x1f3a436da80>"
      ]
     },
     "execution_count": 295,
     "metadata": {},
     "output_type": "execute_result"
    },
    {
     "data": {
      "image/png": "[encoded data removed]",
      "text/plain": [
       "<Figure size 432x288 with 2 Axes>"
      ]
     },
     "metadata": {
      "needs_background": "light"
     },
     "output_type": "display_data"
    }
   ],
   "source": [
    "ConfusionMatrixDisplay.from_estimator(lg, X_test, y_test, cmap=plt.cm.Blues)"
   ]
  },
  {
   "cell_type": "markdown",
   "id": "05c33ef2",
   "metadata": {},
   "source": [
    "# **10. RandomForest**"
   ]
  },
  {
   "cell_type": "code",
   "execution_count": 315,
   "id": "c2a1dd71",
   "metadata": {},
   "outputs": [
    {
     "name": "stdout",
     "output_type": "stream",
     "text": [
      "0.018138234119057132 0.028523489932885907\n"
     ]
    }
   ],
   "source": [
    "from sklearn import ensemble\n",
    "RF = ensemble.RandomForestClassifier(n_estimators = 1000)\n",
    "RF.fit(X_train, y_train)\n",
    "\n",
    "err_train = np.mean(y_train != RF.predict(X_train))\n",
    "err_test  = np.mean(y_test  != RF.predict(X_test))\n",
    "\n",
    "print(err_train, err_test)"
   ]
  },
  {
   "cell_type": "markdown",
   "id": "593489bf",
   "metadata": {},
   "source": [
    "Построим матрицу рассогласования:"
   ]
  },
  {
   "cell_type": "code",
   "execution_count": 316,
   "id": "d64aa9cc",
   "metadata": {},
   "outputs": [
    {
     "data": {
      "text/plain": [
       "<sklearn.metrics._plot.confusion_matrix.ConfusionMatrixDisplay at 0x1f3b0888280>"
      ]
     },
     "execution_count": 316,
     "metadata": {},
     "output_type": "execute_result"
    },
    {
     "data": {
      "image/png": "[encoded data removed]",
      "text/plain": [
       "<Figure size 432x288 with 2 Axes>"
      ]
     },
     "metadata": {
      "needs_background": "light"
     },
     "output_type": "display_data"
    }
   ],
   "source": [
    "ConfusionMatrixDisplay.from_estimator(RF, X_test, y_test, cmap=plt.cm.Blues)"
   ]
  },
  {
   "cell_type": "markdown",
   "id": "44c41e96",
   "metadata": {},
   "source": [
    "# **11. ПОЛНОСВЯЗНАЯ НЕЙРОННАЯ СЕТЬ**"
   ]
  },
  {
   "cell_type": "markdown",
   "id": "3b00c3c3",
   "metadata": {},
   "source": [
    "Будем использовать 1 скрытый слой. Найдем оптимальное количество нейронов в слое."
   ]
  },
  {
   "cell_type": "code",
   "execution_count": 303,
   "id": "0da2d48d",
   "metadata": {},
   "outputs": [],
   "source": [
    "from sklearn.neural_network import MLPClassifier\n",
    "\n",
    "hidden_layer = np.arange(1, 30)\n",
    "test_err = []\n",
    "train_err = []\n",
    "for neu in hidden_layer:\n",
    "    mlp_model = MLPClassifier(hidden_layer_sizes = (neu, ), random_state = 42, max_iter = 10000)\n",
    "    mlp_model.fit(X_train, y_train)\n",
    "\n",
    "    Y_train_pred = mlp_model.predict(X_train)\n",
    "    Y_test_pred = mlp_model.predict(X_test)\n",
    "    train_err.append(np.mean(y_train != Y_train_pred))\n",
    "    test_err.append(np.mean(y_test != Y_test_pred))"
   ]
  },
  {
   "cell_type": "markdown",
   "id": "617c1743",
   "metadata": {},
   "source": [
    "График зависимости ошибки от количества нейронов:"
   ]
  },
  {
   "cell_type": "code",
   "execution_count": 304,
   "id": "d6b7fa64",
   "metadata": {},
   "outputs": [
    {
     "data": {
      "text/plain": [
       "<matplotlib.legend.Legend at 0x1f3b0da6a40>"
      ]
     },
     "execution_count": 304,
     "metadata": {},
     "output_type": "execute_result"
    },
    {
     "data": {
      "image/png": "[encoded data removed]",
      "text/plain": [
       "<Figure size 432x288 with 1 Axes>"
      ]
     },
     "metadata": {
      "needs_background": "light"
     },
     "output_type": "display_data"
    }
   ],
   "source": [
    "plt.plot(hidden_layer, train_err, 'r-o', label = 'train')\n",
    "plt.plot(hidden_layer, test_err, 'b-o', label = 'test')\n",
    "plt.title('error vs. neurons count')\n",
    "plt.xlabel('neurons count')\n",
    "plt.ylabel('error')\n",
    "plt.legend()"
   ]
  },
  {
   "cell_type": "markdown",
   "id": "eb1cb3fb",
   "metadata": {},
   "source": [
    "Найдем минимальную ошибку на обучающей и тестовой выборке:"
   ]
  },
  {
   "cell_type": "code",
   "execution_count": 305,
   "id": "0ec8532e",
   "metadata": {},
   "outputs": [
    {
     "name": "stdout",
     "output_type": "stream",
     "text": [
      "0.018617658809428686 0.030014914243102164\n"
     ]
    }
   ],
   "source": [
    "min_train_err = np.min(train_err)\n",
    "min_test_err = np.min(test_err)\n",
    "print(min_train_err, min_test_err)"
   ]
  },
  {
   "cell_type": "markdown",
   "id": "ee9aef36",
   "metadata": {},
   "source": [
    "Найдем количество нейронов, при котором достигается наименьшая ошибка:"
   ]
  },
  {
   "cell_type": "code",
   "execution_count": 307,
   "id": "27346098",
   "metadata": {},
   "outputs": [
    {
     "name": "stdout",
     "output_type": "stream",
     "text": [
      "[24]\n"
     ]
    }
   ],
   "source": [
    "opt_neuron = hidden_layer[test_err == min_test_err]\n",
    "print(opt_neuron)"
   ]
  },
  {
   "cell_type": "markdown",
   "id": "99373718",
   "metadata": {},
   "source": [
    "Наименьшая ошибка в тестовой выборке достигается при 24 нейронах в слое."
   ]
  },
  {
   "cell_type": "markdown",
   "id": "807365f1",
   "metadata": {},
   "source": [
    "Построим матрицу рассогласования для данного случая."
   ]
  },
  {
   "cell_type": "code",
   "execution_count": 308,
   "id": "8df69a1f",
   "metadata": {},
   "outputs": [
    {
     "data": {
      "text/html": [
       "<style>#sk-container-id-3 {color: black;background-color: white;}#sk-container-id-3 pre{padding: 0;}#sk-container-id-3 div.sk-toggleable {background-color: white;}#sk-container-id-3 label.sk-toggleable__label {cursor: pointer;display: block;width: 100%;margin-bottom: 0;padding: 0.3em;box-sizing: border-box;text-align: center;}#sk-container-id-3 label.sk-toggleable__label-arrow:before {content: \"▸\";float: left;margin-right: 0.25em;color: #696969;}#sk-container-id-3 label.sk-toggleable__label-arrow:hover:before {color: black;}#sk-container-id-3 div.sk-estimator:hover label.sk-toggleable__label-arrow:before {color: black;}#sk-container-id-3 div.sk-toggleable__content {max-height: 0;max-width: 0;overflow: hidden;text-align: left;background-color: #f0f8ff;}#sk-container-id-3 div.sk-toggleable__content pre {margin: 0.2em;color: black;border-radius: 0.25em;background-color: #f0f8ff;}#sk-container-id-3 input.sk-toggleable__control:checked~div.sk-toggleable__content {max-height: 200px;max-width: 100%;overflow: auto;}#sk-container-id-3 input.sk-toggleable__control:checked~label.sk-toggleable__label-arrow:before {content: \"▾\";}#sk-container-id-3 div.sk-estimator input.sk-toggleable__control:checked~label.sk-toggleable__label {background-color: #d4ebff;}#sk-container-id-3 div.sk-label input.sk-toggleable__control:checked~label.sk-toggleable__label {background-color: #d4ebff;}#sk-container-id-3 input.sk-hidden--visually {border: 0;clip: rect(1px 1px 1px 1px);clip: rect(1px, 1px, 1px, 1px);height: 1px;margin: -1px;overflow: hidden;padding: 0;position: absolute;width: 1px;}#sk-container-id-3 div.sk-estimator {font-family: monospace;background-color: #f0f8ff;border: 1px dotted black;border-radius: 0.25em;box-sizing: border-box;margin-bottom: 0.5em;}#sk-container-id-3 div.sk-estimator:hover {background-color: #d4ebff;}#sk-container-id-3 div.sk-parallel-item::after {content: \"\";width: 100%;border-bottom: 1px solid gray;flex-grow: 1;}#sk-container-id-3 div.sk-label:hover label.sk-toggleable__label {background-color: #d4ebff;}#sk-container-id-3 div.sk-serial::before {content: \"\";position: absolute;border-left: 1px solid gray;box-sizing: border-box;top: 0;bottom: 0;left: 50%;z-index: 0;}#sk-container-id-3 div.sk-serial {display: flex;flex-direction: column;align-items: center;background-color: white;padding-right: 0.2em;padding-left: 0.2em;position: relative;}#sk-container-id-3 div.sk-item {position: relative;z-index: 1;}#sk-container-id-3 div.sk-parallel {display: flex;align-items: stretch;justify-content: center;background-color: white;position: relative;}#sk-container-id-3 div.sk-item::before, #sk-container-id-3 div.sk-parallel-item::before {content: \"\";position: absolute;border-left: 1px solid gray;box-sizing: border-box;top: 0;bottom: 0;left: 50%;z-index: -1;}#sk-container-id-3 div.sk-parallel-item {display: flex;flex-direction: column;z-index: 1;position: relative;background-color: white;}#sk-container-id-3 div.sk-parallel-item:first-child::after {align-self: flex-end;width: 50%;}#sk-container-id-3 div.sk-parallel-item:last-child::after {align-self: flex-start;width: 50%;}#sk-container-id-3 div.sk-parallel-item:only-child::after {width: 0;}#sk-container-id-3 div.sk-dashed-wrapped {border: 1px dashed gray;margin: 0 0.4em 0.5em 0.4em;box-sizing: border-box;padding-bottom: 0.4em;background-color: white;}#sk-container-id-3 div.sk-label label {font-family: monospace;font-weight: bold;display: inline-block;line-height: 1.2em;}#sk-container-id-3 div.sk-label-container {text-align: center;}#sk-container-id-3 div.sk-container {/* jupyter's `normalize.less` sets `[hidden] { display: none; }` but bootstrap.min.css set `[hidden] { display: none !important; }` so we also need the `!important` here to be able to override the default hidden behavior on the sphinx rendered scikit-learn.org. See: https://github.com/scikit-learn/scikit-learn/issues/21755 */display: inline-block !important;position: relative;}#sk-container-id-3 div.sk-text-repr-fallback {display: none;}</style><div id=\"sk-container-id-3\" class=\"sk-top-container\"><div class=\"sk-text-repr-fallback\"><pre>MLPClassifier(hidden_layer_sizes=(24,), max_iter=10000, random_state=42)</pre><b>In a Jupyter environment, please rerun this cell to show the HTML representation or trust the notebook. <br />On GitHub, the HTML representation is unable to render, please try loading this page with nbviewer.org.</b></div><div class=\"sk-container\" hidden><div class=\"sk-item\"><div class=\"sk-estimator sk-toggleable\"><input class=\"sk-toggleable__control sk-hidden--visually\" id=\"sk-estimator-id-3\" type=\"checkbox\" checked><label for=\"sk-estimator-id-3\" class=\"sk-toggleable__label sk-toggleable__label-arrow\">MLPClassifier</label><div class=\"sk-toggleable__content\"><pre>MLPClassifier(hidden_layer_sizes=(24,), max_iter=10000, random_state=42)</pre></div></div></div></div></div>"
      ],
      "text/plain": [
       "MLPClassifier(hidden_layer_sizes=(24,), max_iter=10000, random_state=42)"
      ]
     },
     "execution_count": 308,
     "metadata": {},
     "output_type": "execute_result"
    }
   ],
   "source": [
    "mlp_model = MLPClassifier(hidden_layer_sizes = (24, ), random_state = 42, max_iter = 10000)\n",
    "mlp_model.fit(X_train, y_train)"
   ]
  },
  {
   "cell_type": "code",
   "execution_count": 309,
   "id": "66366020",
   "metadata": {},
   "outputs": [
    {
     "data": {
      "text/plain": [
       "<sklearn.metrics._plot.confusion_matrix.ConfusionMatrixDisplay at 0x1f3aa22d030>"
      ]
     },
     "execution_count": 309,
     "metadata": {},
     "output_type": "execute_result"
    },
    {
     "data": {
      "image/png": "[encoded data removed]",
      "text/plain": [
       "<Figure size 432x288 with 2 Axes>"
      ]
     },
     "metadata": {
      "needs_background": "light"
     },
     "output_type": "display_data"
    }
   ],
   "source": [
    "ConfusionMatrixDisplay.from_estimator(mlp_model, X_test, y_test, cmap=plt.cm.Blues)"
   ]
  },
  {
   "cell_type": "markdown",
   "id": "8fb9ba61",
   "metadata": {},
   "source": [
    "# **11. ВЫВОДЫ**"
   ]
  },
  {
   "cell_type": "markdown",
   "id": "924fd239",
   "metadata": {},
   "source": [
    "Получили следующие результаты:\n",
    "\n",
    "Классификатор ближайших соседей (knn): 0.031693\n",
    "\n",
    "Логистическая регрессия: 0.04399701715137957\n",
    "\n",
    "RandomForest: 0.028523489932885907\n",
    "\n",
    "Полносвязная нейронная сеть: 0.030014914243102164\n",
    "\n",
    "Наименьшая ошибка на тестовой выборке наблюдается у RandomForest.\n"
   ]
  },
  {
   "cell_type": "markdown",
   "id": "1950d2f2",
   "metadata": {},
   "source": [
    "Сравним матрицы рассогласования:"
   ]
  },
  {
   "cell_type": "code",
   "execution_count": 318,
   "id": "9396fb5d",
   "metadata": {},
   "outputs": [
    {
     "data": {
      "text/plain": [
       "Text(0.5, 1.0, 'Полносвязная нейронная сеть')"
      ]
     },
     "execution_count": 318,
     "metadata": {},
     "output_type": "execute_result"
    },
    {
     "data": {
      "image/png": "[encoded data removed]",
      "text/plain": [
       "<Figure size 432x288 with 2 Axes>"
      ]
     },
     "metadata": {
      "needs_background": "light"
     },
     "output_type": "display_data"
    },
    {
     "data": {
      "image/png": "[encoded data removed]",
      "text/plain": [
       "<Figure size 432x288 with 2 Axes>"
      ]
     },
     "metadata": {
      "needs_background": "light"
     },
     "output_type": "display_data"
    },
    {
     "data": {
      "image/png": "[encoded data removed]",
      "text/plain": [
       "<Figure size 432x288 with 2 Axes>"
      ]
     },
     "metadata": {
      "needs_background": "light"
     },
     "output_type": "display_data"
    },
    {
     "data": {
      "image/png": "[encoded data removed]",
      "text/plain": [
       "<Figure size 432x288 with 2 Axes>"
      ]
     },
     "metadata": {
      "needs_background": "light"
     },
     "output_type": "display_data"
    }
   ],
   "source": [
    "disp1 = ConfusionMatrixDisplay.from_estimator(model, X_test, y_test, cmap=plt.cm.Blues)\n",
    "disp1.ax_.set_title(\"Классификатор ближайших соседей (knn)\")\n",
    "\n",
    "disp2 = ConfusionMatrixDisplay.from_estimator(lg, X_test, y_test, cmap=plt.cm.Blues)\n",
    "disp2.ax_.set_title(\"Логистическая регрессия\")\n",
    "\n",
    "disp3 = ConfusionMatrixDisplay.from_estimator(RF, X_test, y_test, cmap=plt.cm.Blues)\n",
    "disp3.ax_.set_title(\"RandomForest\")\n",
    "\n",
    "disp4 = ConfusionMatrixDisplay.from_estimator(mlp_model, X_test, y_test, cmap=plt.cm.Blues)\n",
    "disp4.ax_.set_title(\"Полносвязная нейронная сеть\")"
   ]
  },
  {
   "cell_type": "markdown",
   "id": "209200e3",
   "metadata": {},
   "source": [
    "Видим, что в нахождении истинных пропусков True Negative (TN) хуже всех себя показала полносвязная нейронная сеть, зато она превосходит другие алгоритмы в определении истинных срабатываний True Positive (TP).\n",
    "Больше всего ложных пропусков False Negative (FN) сделала логистическая регрессия, а ложных срабатываний False Positive (FP) - полносвязная нейронная сеть."
   ]
  }
 ],
 "metadata": {
  "kernelspec": {
   "display_name": "Python 3 (ipykernel)",
   "language": "python",
   "name": "python3"
  },
  "language_info": {
   "codemirror_mode": {
    "name": "ipython",
    "version": 3
   },
   "file_extension": ".py",
   "mimetype": "text/x-python",
   "name": "python",
   "nbconvert_exporter": "python",
   "pygments_lexer": "ipython3",
   "version": "3.10.5"
  }
 },
 "nbformat": 4,
 "nbformat_minor": 5
}
